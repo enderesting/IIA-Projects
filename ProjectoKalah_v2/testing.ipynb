{
 "cells": [
  {
   "cell_type": "code",
   "execution_count": 57,
   "metadata": {},
   "outputs": [],
   "source": [
    "from kalah import *\n",
    "from pebblereaper import *\n",
    "\n",
    "\n",
    "class Jogador():\n",
    "    def __init__(self, nome, fun):\n",
    "        self.nome = nome\n",
    "        self.fun = fun\n",
    "    def display(self):\n",
    "        print(self.nome+\" \")\n",
    "        \n",
    "class JogadorAlfaBeta(Jogador):\n",
    "    def __init__(self, nome, depth,fun_eval):\n",
    "        self.nome = nome\n",
    "        self.fun = lambda game, state: alphabeta_cutoff_search_new(state,game,depth,eval_fn=fun_eval)\n",
    "\n",
    "\n",
    "##########  para ser independente dos jogos deveria devolver um método em string ou um atributo\n",
    "def joga11(game, jog1, jog2,verbose=False):\n",
    "    ### jog1 e jog2 são jogadores com funções que dado um estado do jogo devolvem a jogada que escolheram\n",
    "    ### devolve o par de jogadores, a lista de jogadas e o resultado\n",
    "    estado=game.initial\n",
    "    proxjog = jog1\n",
    "    lista_jogadas=[]\n",
    "    lance = 0\n",
    "    while not game.terminal_test(estado):\n",
    "        if verbose:\n",
    "            print('----------   LANCE:',lance)\n",
    "            game.display(estado)\n",
    "        jogada = proxjog.fun(game, estado)\n",
    "        if verbose:\n",
    "            print('JOGADA=',jogada)\n",
    "        estado=game.result(estado,jogada)\n",
    "        lista_jogadas.append(jogada)\n",
    "        proxjog = jog2 if proxjog == jog1 else jog1\n",
    "        lance+=1\n",
    "    #p jogou e ganhou\n",
    "    util=game.utility(estado,0)\n",
    "    if util == 1:\n",
    "        resultado=jog1.nome\n",
    "    elif util== -1:\n",
    "        resultado = jog2.nome\n",
    "    else:\n",
    "        resultado='Empate'\n",
    "    return ((jog1.nome,jog2.nome),lista_jogadas,resultado)"
   ]
  },
  {
   "cell_type": "markdown",
   "metadata": {},
   "source": [
    "## Create Chapiteau"
   ]
  },
  {
   "cell_type": "code",
   "execution_count": 58,
   "metadata": {},
   "outputs": [],
   "source": [
    "def toes(state,player):\n",
    "    board = state.state\n",
    "    if state.is_game_over():\n",
    "        result = state.result()\n",
    "        if result == 0:\n",
    "            result = 0\n",
    "        return 100 if result == player else -100\n",
    "    \n",
    "    own_seeds = sum(board[:6]) if player == 0 else sum(board[7:13])\n",
    "    opponent_seeds = sum(board[7:13]) if player == 0 else sum(board[:6])\n",
    "    score = own_seeds - opponent_seeds\n",
    "    return score\n",
    "\n",
    "toe1 = JogadorAlfaBeta(\"chapiteau\",6,toes)\n",
    "# toe2 = JogadorAlfaBeta(\"heehoo\",6,toes)\n",
    "\n"
   ]
  },
  {
   "cell_type": "markdown",
   "metadata": {},
   "source": [
    "## Create Random Player"
   ]
  },
  {
   "cell_type": "code",
   "execution_count": 59,
   "metadata": {},
   "outputs": [],
   "source": [
    "def f_caos_intel(estado,jogador):\n",
    "    \"\"\"Quando é terminal: +100 para vitória, -100 para a derrota e 0 para o empate.\n",
    "       Quando o tabuleiro é não terminal devolve 0, o que quer dizer que como o minimax baralha as acções, será random\"\"\"\n",
    "    if estado.is_game_over():\n",
    "        aux = estado.result()\n",
    "        return aux*100 if jogador == estado.SOUTH else aux*-100\n",
    "    return 0\n",
    "\n",
    "el_caos_int6=JogadorAlfaBeta(\"El Caos Inteligente 6\",6,f_caos_intel)"
   ]
  },
  {
   "cell_type": "markdown",
   "metadata": {},
   "source": [
    "# Pebbles!"
   ]
  },
  {
   "cell_type": "code",
   "execution_count": 60,
   "metadata": {},
   "outputs": [],
   "source": [
    "pebs = JogadorAlfaBeta('Pebbles',6,Jogador_42)"
   ]
  },
  {
   "cell_type": "markdown",
   "metadata": {},
   "source": [
    "# One game"
   ]
  },
  {
   "cell_type": "code",
   "execution_count": 61,
   "metadata": {},
   "outputs": [
    {
     "data": {
      "text/plain": [
       "'El Caos Inteligente 6'"
      ]
     },
     "execution_count": 61,
     "metadata": {},
     "output_type": "execute_result"
    }
   ],
   "source": [
    "mx = Kalah(20)\n",
    "_,_,res = joga11(mx,toe1,el_caos_int6)\n",
    "res"
   ]
  },
  {
   "cell_type": "markdown",
   "metadata": {},
   "source": [
    "# N Match Pairs"
   ]
  },
  {
   "cell_type": "code",
   "execution_count": 62,
   "metadata": {},
   "outputs": [],
   "source": [
    "scores={'Vitoria': 3, 'Empate': 1}\n",
    "\n",
    "def traduzPontos(tabela):\n",
    "    tabelaScore={}\n",
    "    empates=tabela['Empate']\n",
    "    for x in tabela:\n",
    "        if x != 'Empate':\n",
    "            tabelaScore[x]=scores['Vitoria']*tabela[x]+empates\n",
    "    return tabelaScore\n",
    "\n",
    "def jogaNpares(jogo,n,jog1,jog2):\n",
    "    tabelaPrim={jog1.nome:0, jog2.nome:0, 'Empate':0}\n",
    "    tabelaSeg={jog1.nome:0, jog2.nome:0, 'Empate':0}\n",
    "    tabela={}\n",
    "    for _ in range(n):\n",
    "        _,_,vencedor=joga11(jogo,jog1,jog2)\n",
    "        tabelaPrim[vencedor]+=1\n",
    "        _,_,vencedor=joga11(jogo,jog2,jog1)\n",
    "        tabelaSeg[vencedor]+=1\n",
    "    for x in tabelaPrim:\n",
    "        tabela[x]=tabelaPrim[x]+tabelaSeg[x]\n",
    "    return tabelaPrim,tabelaSeg,tabela,traduzPontos(tabela)"
   ]
  },
  {
   "cell_type": "code",
   "execution_count": 64,
   "metadata": {},
   "outputs": [
    {
     "ename": "KeyboardInterrupt",
     "evalue": "",
     "output_type": "error",
     "traceback": [
      "\u001b[0;31m---------------------------------------------------------------------------\u001b[0m",
      "\u001b[0;31mKeyboardInterrupt\u001b[0m                         Traceback (most recent call last)",
      "\u001b[1;32m/home/mimi/Desktop/school/A3S1/IntroAI/Projects/ProjectoKalah_v2/testing.ipynb Cell 12\u001b[0m line \u001b[0;36m8\n\u001b[1;32m      <a href='vscode-notebook-cell:/home/mimi/Desktop/school/A3S1/IntroAI/Projects/ProjectoKalah_v2/testing.ipynb#X14sZmlsZQ%3D%3D?line=2'>3</a>\u001b[0m jogo\u001b[39m=\u001b[39mKalah(\u001b[39m10\u001b[39m)\n\u001b[1;32m      <a href='vscode-notebook-cell:/home/mimi/Desktop/school/A3S1/IntroAI/Projects/ProjectoKalah_v2/testing.ipynb#X14sZmlsZQ%3D%3D?line=3'>4</a>\u001b[0m \u001b[39m#n jogaNpares(jogo,300,el_caos,el_caos_int6)\u001b[39;00m\n\u001b[1;32m      <a href='vscode-notebook-cell:/home/mimi/Desktop/school/A3S1/IntroAI/Projects/ProjectoKalah_v2/testing.ipynb#X14sZmlsZQ%3D%3D?line=4'>5</a>\u001b[0m \u001b[39m# jogo.result()\u001b[39;00m\n\u001b[1;32m      <a href='vscode-notebook-cell:/home/mimi/Desktop/school/A3S1/IntroAI/Projects/ProjectoKalah_v2/testing.ipynb#X14sZmlsZQ%3D%3D?line=5'>6</a>\u001b[0m \n\u001b[1;32m      <a href='vscode-notebook-cell:/home/mimi/Desktop/school/A3S1/IntroAI/Projects/ProjectoKalah_v2/testing.ipynb#X14sZmlsZQ%3D%3D?line=6'>7</a>\u001b[0m \u001b[39m# _,_,res=joga11(jogo,toe1,pebs,True)\u001b[39;00m\n\u001b[0;32m----> <a href='vscode-notebook-cell:/home/mimi/Desktop/school/A3S1/IntroAI/Projects/ProjectoKalah_v2/testing.ipynb#X14sZmlsZQ%3D%3D?line=7'>8</a>\u001b[0m jogaNpares(jogo,\u001b[39m300\u001b[39;49m,toe1,pebs)\n",
      "\u001b[1;32m/home/mimi/Desktop/school/A3S1/IntroAI/Projects/ProjectoKalah_v2/testing.ipynb Cell 12\u001b[0m line \u001b[0;36m1\n\u001b[1;32m     <a href='vscode-notebook-cell:/home/mimi/Desktop/school/A3S1/IntroAI/Projects/ProjectoKalah_v2/testing.ipynb#X14sZmlsZQ%3D%3D?line=13'>14</a>\u001b[0m tabela\u001b[39m=\u001b[39m{}\n\u001b[1;32m     <a href='vscode-notebook-cell:/home/mimi/Desktop/school/A3S1/IntroAI/Projects/ProjectoKalah_v2/testing.ipynb#X14sZmlsZQ%3D%3D?line=14'>15</a>\u001b[0m \u001b[39mfor\u001b[39;00m _ \u001b[39min\u001b[39;00m \u001b[39mrange\u001b[39m(n):\n\u001b[0;32m---> <a href='vscode-notebook-cell:/home/mimi/Desktop/school/A3S1/IntroAI/Projects/ProjectoKalah_v2/testing.ipynb#X14sZmlsZQ%3D%3D?line=15'>16</a>\u001b[0m     _,_,vencedor\u001b[39m=\u001b[39mjoga11(jogo,jog1,jog2)\n\u001b[1;32m     <a href='vscode-notebook-cell:/home/mimi/Desktop/school/A3S1/IntroAI/Projects/ProjectoKalah_v2/testing.ipynb#X14sZmlsZQ%3D%3D?line=16'>17</a>\u001b[0m     tabelaPrim[vencedor]\u001b[39m+\u001b[39m\u001b[39m=\u001b[39m\u001b[39m1\u001b[39m\n\u001b[1;32m     <a href='vscode-notebook-cell:/home/mimi/Desktop/school/A3S1/IntroAI/Projects/ProjectoKalah_v2/testing.ipynb#X14sZmlsZQ%3D%3D?line=17'>18</a>\u001b[0m     _,_,vencedor\u001b[39m=\u001b[39mjoga11(jogo,jog2,jog1)\n",
      "\u001b[1;32m/home/mimi/Desktop/school/A3S1/IntroAI/Projects/ProjectoKalah_v2/testing.ipynb Cell 12\u001b[0m line \u001b[0;36m3\n\u001b[1;32m     <a href='vscode-notebook-cell:/home/mimi/Desktop/school/A3S1/IntroAI/Projects/ProjectoKalah_v2/testing.ipynb#X14sZmlsZQ%3D%3D?line=27'>28</a>\u001b[0m     \u001b[39mprint\u001b[39m(\u001b[39m'\u001b[39m\u001b[39m----------   LANCE:\u001b[39m\u001b[39m'\u001b[39m,lance)\n\u001b[1;32m     <a href='vscode-notebook-cell:/home/mimi/Desktop/school/A3S1/IntroAI/Projects/ProjectoKalah_v2/testing.ipynb#X14sZmlsZQ%3D%3D?line=28'>29</a>\u001b[0m     game\u001b[39m.\u001b[39mdisplay(estado)\n\u001b[0;32m---> <a href='vscode-notebook-cell:/home/mimi/Desktop/school/A3S1/IntroAI/Projects/ProjectoKalah_v2/testing.ipynb#X14sZmlsZQ%3D%3D?line=29'>30</a>\u001b[0m jogada \u001b[39m=\u001b[39m proxjog\u001b[39m.\u001b[39;49mfun(game, estado)\n\u001b[1;32m     <a href='vscode-notebook-cell:/home/mimi/Desktop/school/A3S1/IntroAI/Projects/ProjectoKalah_v2/testing.ipynb#X14sZmlsZQ%3D%3D?line=30'>31</a>\u001b[0m \u001b[39mif\u001b[39;00m verbose:\n\u001b[1;32m     <a href='vscode-notebook-cell:/home/mimi/Desktop/school/A3S1/IntroAI/Projects/ProjectoKalah_v2/testing.ipynb#X14sZmlsZQ%3D%3D?line=31'>32</a>\u001b[0m     \u001b[39mprint\u001b[39m(\u001b[39m'\u001b[39m\u001b[39mJOGADA=\u001b[39m\u001b[39m'\u001b[39m,jogada)\n",
      "\u001b[1;32m/home/mimi/Desktop/school/A3S1/IntroAI/Projects/ProjectoKalah_v2/testing.ipynb Cell 12\u001b[0m line \u001b[0;36m1\n\u001b[1;32m     <a href='vscode-notebook-cell:/home/mimi/Desktop/school/A3S1/IntroAI/Projects/ProjectoKalah_v2/testing.ipynb#X14sZmlsZQ%3D%3D?line=12'>13</a>\u001b[0m \u001b[39mdef\u001b[39;00m \u001b[39m__init__\u001b[39m(\u001b[39mself\u001b[39m, nome, depth,fun_eval):\n\u001b[1;32m     <a href='vscode-notebook-cell:/home/mimi/Desktop/school/A3S1/IntroAI/Projects/ProjectoKalah_v2/testing.ipynb#X14sZmlsZQ%3D%3D?line=13'>14</a>\u001b[0m     \u001b[39mself\u001b[39m\u001b[39m.\u001b[39mnome \u001b[39m=\u001b[39m nome\n\u001b[0;32m---> <a href='vscode-notebook-cell:/home/mimi/Desktop/school/A3S1/IntroAI/Projects/ProjectoKalah_v2/testing.ipynb#X14sZmlsZQ%3D%3D?line=14'>15</a>\u001b[0m     \u001b[39mself\u001b[39m\u001b[39m.\u001b[39mfun \u001b[39m=\u001b[39m \u001b[39mlambda\u001b[39;00m game, state: alphabeta_cutoff_search_new(state,game,depth,eval_fn\u001b[39m=\u001b[39;49mfun_eval)\n",
      "File \u001b[0;32m~/Desktop/school/A3S1/IntroAI/Projects/ProjectoKalah_v2/jogos.py:220\u001b[0m, in \u001b[0;36malphabeta_cutoff_search_new\u001b[0;34m(state, game, d, cutoff_test, eval_fn)\u001b[0m\n\u001b[1;32m    218\u001b[0m random\u001b[39m.\u001b[39mshuffle(movimentos)        \u001b[39m## para dar variabilidade aos jogos\u001b[39;00m\n\u001b[1;32m    219\u001b[0m \u001b[39mfor\u001b[39;00m a \u001b[39min\u001b[39;00m movimentos:              \u001b[39m##\u001b[39;00m\n\u001b[0;32m--> 220\u001b[0m     v \u001b[39m=\u001b[39m min_value(game\u001b[39m.\u001b[39;49mresult(state, a), best_score, beta, \u001b[39m1\u001b[39;49m)\n\u001b[1;32m    221\u001b[0m     \u001b[39mif\u001b[39;00m v \u001b[39m>\u001b[39m best_score:\n\u001b[1;32m    222\u001b[0m         best_score \u001b[39m=\u001b[39m v\n",
      "File \u001b[0;32m~/Desktop/school/A3S1/IntroAI/Projects/ProjectoKalah_v2/jogos.py:201\u001b[0m, in \u001b[0;36malphabeta_cutoff_search_new.<locals>.min_value\u001b[0;34m(state, alpha, beta, depth)\u001b[0m\n\u001b[1;32m    199\u001b[0m movimentos \u001b[39m=\u001b[39m game\u001b[39m.\u001b[39mactions(state)  \u001b[39m## jb\u001b[39;00m\n\u001b[1;32m    200\u001b[0m \u001b[39mfor\u001b[39;00m a \u001b[39min\u001b[39;00m movimentos:              \u001b[39m##\u001b[39;00m\n\u001b[0;32m--> 201\u001b[0m     beta \u001b[39m=\u001b[39m \u001b[39mmin\u001b[39m(v, max_value(game\u001b[39m.\u001b[39;49mresult(state, a),\n\u001b[1;32m    202\u001b[0m                          alpha, beta, depth \u001b[39m+\u001b[39;49m \u001b[39m1\u001b[39;49m))\n\u001b[1;32m    203\u001b[0m     \u001b[39mif\u001b[39;00m beta \u001b[39m<\u001b[39m\u001b[39m=\u001b[39m alpha:\n\u001b[1;32m    204\u001b[0m         \u001b[39mreturn\u001b[39;00m beta\n",
      "File \u001b[0;32m~/Desktop/school/A3S1/IntroAI/Projects/ProjectoKalah_v2/jogos.py:188\u001b[0m, in \u001b[0;36malphabeta_cutoff_search_new.<locals>.max_value\u001b[0;34m(state, alpha, beta, depth)\u001b[0m\n\u001b[1;32m    186\u001b[0m movimentos \u001b[39m=\u001b[39m game\u001b[39m.\u001b[39mactions(state)  \u001b[39m## jb\u001b[39;00m\n\u001b[1;32m    187\u001b[0m \u001b[39mfor\u001b[39;00m a \u001b[39min\u001b[39;00m movimentos:              \u001b[39m##\u001b[39;00m\n\u001b[0;32m--> 188\u001b[0m     alpha \u001b[39m=\u001b[39m \u001b[39mmax\u001b[39m(v, min_value(game\u001b[39m.\u001b[39;49mresult(state, a),\n\u001b[1;32m    189\u001b[0m                          alpha, beta, depth \u001b[39m+\u001b[39;49m \u001b[39m1\u001b[39;49m))\n\u001b[1;32m    190\u001b[0m     \u001b[39mif\u001b[39;00m alpha \u001b[39m>\u001b[39m\u001b[39m=\u001b[39m beta:\n\u001b[1;32m    191\u001b[0m         \u001b[39mreturn\u001b[39;00m alpha\n",
      "File \u001b[0;32m~/Desktop/school/A3S1/IntroAI/Projects/ProjectoKalah_v2/jogos.py:201\u001b[0m, in \u001b[0;36malphabeta_cutoff_search_new.<locals>.min_value\u001b[0;34m(state, alpha, beta, depth)\u001b[0m\n\u001b[1;32m    199\u001b[0m movimentos \u001b[39m=\u001b[39m game\u001b[39m.\u001b[39mactions(state)  \u001b[39m## jb\u001b[39;00m\n\u001b[1;32m    200\u001b[0m \u001b[39mfor\u001b[39;00m a \u001b[39min\u001b[39;00m movimentos:              \u001b[39m##\u001b[39;00m\n\u001b[0;32m--> 201\u001b[0m     beta \u001b[39m=\u001b[39m \u001b[39mmin\u001b[39m(v, max_value(game\u001b[39m.\u001b[39;49mresult(state, a),\n\u001b[1;32m    202\u001b[0m                          alpha, beta, depth \u001b[39m+\u001b[39;49m \u001b[39m1\u001b[39;49m))\n\u001b[1;32m    203\u001b[0m     \u001b[39mif\u001b[39;00m beta \u001b[39m<\u001b[39m\u001b[39m=\u001b[39m alpha:\n\u001b[1;32m    204\u001b[0m         \u001b[39mreturn\u001b[39;00m beta\n",
      "File \u001b[0;32m~/Desktop/school/A3S1/IntroAI/Projects/ProjectoKalah_v2/jogos.py:188\u001b[0m, in \u001b[0;36malphabeta_cutoff_search_new.<locals>.max_value\u001b[0;34m(state, alpha, beta, depth)\u001b[0m\n\u001b[1;32m    186\u001b[0m movimentos \u001b[39m=\u001b[39m game\u001b[39m.\u001b[39mactions(state)  \u001b[39m## jb\u001b[39;00m\n\u001b[1;32m    187\u001b[0m \u001b[39mfor\u001b[39;00m a \u001b[39min\u001b[39;00m movimentos:              \u001b[39m##\u001b[39;00m\n\u001b[0;32m--> 188\u001b[0m     alpha \u001b[39m=\u001b[39m \u001b[39mmax\u001b[39m(v, min_value(game\u001b[39m.\u001b[39;49mresult(state, a),\n\u001b[1;32m    189\u001b[0m                          alpha, beta, depth \u001b[39m+\u001b[39m \u001b[39m1\u001b[39m))\n\u001b[1;32m    190\u001b[0m     \u001b[39mif\u001b[39;00m alpha \u001b[39m>\u001b[39m\u001b[39m=\u001b[39m beta:\n\u001b[1;32m    191\u001b[0m         \u001b[39mreturn\u001b[39;00m alpha\n",
      "File \u001b[0;32m~/Desktop/school/A3S1/IntroAI/Projects/ProjectoKalah_v2/kalah.py:251\u001b[0m, in \u001b[0;36mKalah.result\u001b[0;34m(self, state, move)\u001b[0m\n\u001b[1;32m    248\u001b[0m \u001b[39mdef\u001b[39;00m \u001b[39mresult\u001b[39m(\u001b[39mself\u001b[39m, state, move):\n\u001b[1;32m    249\u001b[0m     \u001b[39m\"\u001b[39m\u001b[39mExecute move from state, returning next state\u001b[39m\u001b[39m\"\u001b[39m\n\u001b[0;32m--> 251\u001b[0m     \u001b[39mreturn\u001b[39;00m state\u001b[39m.\u001b[39;49mreal_move(move)\n",
      "File \u001b[0;32m~/Desktop/school/A3S1/IntroAI/Projects/ProjectoKalah_v2/kalah.py:115\u001b[0m, in \u001b[0;36mKalahState.real_move\u001b[0;34m(self, move)\u001b[0m\n\u001b[1;32m    113\u001b[0m \u001b[39mdef\u001b[39;00m \u001b[39mreal_move\u001b[39m(\u001b[39mself\u001b[39m,move):\n\u001b[1;32m    114\u001b[0m \u001b[39m    \u001b[39m\u001b[39m\"\"\"Make a move or a non-stop list of moves. While the the seed ends in the player's counter, go on\"\"\"\u001b[39;00m\n\u001b[0;32m--> 115\u001b[0m     clone\u001b[39m=\u001b[39mcopy\u001b[39m.\u001b[39;49mdeepcopy(\u001b[39mself\u001b[39;49m)\n\u001b[1;32m    116\u001b[0m     clone\u001b[39m.\u001b[39mmake_move(move)\n\u001b[1;32m    117\u001b[0m     \u001b[39mreturn\u001b[39;00m clone\n",
      "File \u001b[0;32m/usr/lib/python3.10/copy.py:172\u001b[0m, in \u001b[0;36mdeepcopy\u001b[0;34m(x, memo, _nil)\u001b[0m\n\u001b[1;32m    170\u001b[0m                 y \u001b[39m=\u001b[39m x\n\u001b[1;32m    171\u001b[0m             \u001b[39melse\u001b[39;00m:\n\u001b[0;32m--> 172\u001b[0m                 y \u001b[39m=\u001b[39m _reconstruct(x, memo, \u001b[39m*\u001b[39;49mrv)\n\u001b[1;32m    174\u001b[0m \u001b[39m# If is its own copy, don't memoize.\u001b[39;00m\n\u001b[1;32m    175\u001b[0m \u001b[39mif\u001b[39;00m y \u001b[39mis\u001b[39;00m \u001b[39mnot\u001b[39;00m x:\n",
      "File \u001b[0;32m/usr/lib/python3.10/copy.py:271\u001b[0m, in \u001b[0;36m_reconstruct\u001b[0;34m(x, memo, func, args, state, listiter, dictiter, deepcopy)\u001b[0m\n\u001b[1;32m    269\u001b[0m \u001b[39mif\u001b[39;00m state \u001b[39mis\u001b[39;00m \u001b[39mnot\u001b[39;00m \u001b[39mNone\u001b[39;00m:\n\u001b[1;32m    270\u001b[0m     \u001b[39mif\u001b[39;00m deep:\n\u001b[0;32m--> 271\u001b[0m         state \u001b[39m=\u001b[39m deepcopy(state, memo)\n\u001b[1;32m    272\u001b[0m     \u001b[39mif\u001b[39;00m \u001b[39mhasattr\u001b[39m(y, \u001b[39m'\u001b[39m\u001b[39m__setstate__\u001b[39m\u001b[39m'\u001b[39m):\n\u001b[1;32m    273\u001b[0m         y\u001b[39m.\u001b[39m__setstate__(state)\n",
      "File \u001b[0;32m/usr/lib/python3.10/copy.py:146\u001b[0m, in \u001b[0;36mdeepcopy\u001b[0;34m(x, memo, _nil)\u001b[0m\n\u001b[1;32m    144\u001b[0m copier \u001b[39m=\u001b[39m _deepcopy_dispatch\u001b[39m.\u001b[39mget(\u001b[39mcls\u001b[39m)\n\u001b[1;32m    145\u001b[0m \u001b[39mif\u001b[39;00m copier \u001b[39mis\u001b[39;00m \u001b[39mnot\u001b[39;00m \u001b[39mNone\u001b[39;00m:\n\u001b[0;32m--> 146\u001b[0m     y \u001b[39m=\u001b[39m copier(x, memo)\n\u001b[1;32m    147\u001b[0m \u001b[39melse\u001b[39;00m:\n\u001b[1;32m    148\u001b[0m     \u001b[39mif\u001b[39;00m \u001b[39missubclass\u001b[39m(\u001b[39mcls\u001b[39m, \u001b[39mtype\u001b[39m):\n",
      "File \u001b[0;32m/usr/lib/python3.10/copy.py:231\u001b[0m, in \u001b[0;36m_deepcopy_dict\u001b[0;34m(x, memo, deepcopy)\u001b[0m\n\u001b[1;32m    229\u001b[0m memo[\u001b[39mid\u001b[39m(x)] \u001b[39m=\u001b[39m y\n\u001b[1;32m    230\u001b[0m \u001b[39mfor\u001b[39;00m key, value \u001b[39min\u001b[39;00m x\u001b[39m.\u001b[39mitems():\n\u001b[0;32m--> 231\u001b[0m     y[deepcopy(key, memo)] \u001b[39m=\u001b[39m deepcopy(value, memo)\n\u001b[1;32m    232\u001b[0m \u001b[39mreturn\u001b[39;00m y\n",
      "\u001b[0;31mKeyboardInterrupt\u001b[0m: "
     ]
    }
   ],
   "source": [
    "# jogaNpares()\n",
    "\n",
    "jogo=Kalah(10)\n",
    "#n jogaNpares(jogo,300,el_caos,el_caos_int6)\n",
    "# jogo.result()\n",
    "\n",
    "# _,_,res=joga11(jogo,toe1,pebs,True)\n",
    "jogaNpares(jogo,300,toe1,pebs)"
   ]
  }
 ],
 "metadata": {
  "kernelspec": {
   "display_name": "Python 3",
   "language": "python",
   "name": "python3"
  },
  "language_info": {
   "codemirror_mode": {
    "name": "ipython",
    "version": 3
   },
   "file_extension": ".py",
   "mimetype": "text/x-python",
   "name": "python",
   "nbconvert_exporter": "python",
   "pygments_lexer": "ipython3",
   "version": "3.10.12"
  }
 },
 "nbformat": 4,
 "nbformat_minor": 2
}
