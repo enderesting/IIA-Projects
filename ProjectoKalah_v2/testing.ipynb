{
 "cells": [
  {
   "cell_type": "code",
   "execution_count": 55,
   "metadata": {},
   "outputs": [],
   "source": [
    "from kalah import *\n",
    "# from pebblereaper import *\n",
    "from extrakalah import *\n",
    "depth = 6\n",
    "weights = [0.51, 0.01, 0.34, 0.1]\n",
    "h_list = [pit_total,side_total,chance_to_clear_right_most,congregate_seeds]\n",
    "full_h_list = [pit_total,side_total,chance_to_clear_right_most,congregate_seeds,capture_defense]\n",
    "alt_h_list = [pit_total,side_total,chance_to_clear_right_most,congregate_seeds,capture_available]\n",
    "\n",
    "class Jogador():\n",
    "    def __init__(self, nome, fun):\n",
    "        self.nome = nome\n",
    "        self.fun = fun\n",
    "    def display(self):\n",
    "        print(self.nome+\" \")\n",
    "        \n",
    "class JogadorAlfaBeta(Jogador):\n",
    "    def __init__(self, nome, depth,fun_eval):\n",
    "        self.nome = nome\n",
    "        self.fun = lambda game, state: alphabeta_cutoff_search_new(state,game,depth,eval_fn=fun_eval)\n",
    "\n",
    "\n",
    "##########  para ser independente dos jogos deveria devolver um método em string ou um atributo\n",
    "def joga11(game, jog1, jog2,verbose=False):\n",
    "    ### jog1 e jog2 são jogadores com funções que dado um estado do jogo devolvem a jogada que escolheram\n",
    "    ### devolve o par de jogadores, a lista de jogadas e o resultado\n",
    "    estado=game.initial\n",
    "    proxjog = jog1\n",
    "    lista_jogadas=[]\n",
    "    lance = 0\n",
    "    while not game.terminal_test(estado):\n",
    "        if verbose:\n",
    "            print('----------   LANCE:',lance)\n",
    "            game.display(estado)\n",
    "        jogada = proxjog.fun(game, estado) # state produced\n",
    "        if verbose:\n",
    "            print('JOGADA=',jogada)\n",
    "            print(\"pit_total:\",pit_total(estado,proxjog))\n",
    "            print(\"side_total: \", side_total(estado,proxjog))\n",
    "            print(\"chance_to_clear_right_most:\",chance_to_clear_right_most(estado,proxjog))\n",
    "            print(\"congregate_seeds: \", congregate_seeds(estado,proxjog))\n",
    "            print(\"heuristic total:\",linearPond(estado,proxjog,weights,h_list,100))\n",
    "        estado=game.result(estado,jogada)\n",
    "        lista_jogadas.append(jogada)\n",
    "        proxjog = jog2 if proxjog == jog1 else jog1\n",
    "        lance+=1\n",
    "    #p jogou e ganhou\n",
    "    util=game.utility(estado,0)\n",
    "    if util == 1:\n",
    "        resultado=jog1.nome\n",
    "    elif util== -1:\n",
    "        resultado = jog2.nome\n",
    "    else:\n",
    "        resultado='Empate'\n",
    "    return ((jog1.nome,jog2.nome),lista_jogadas,resultado)\n"
   ]
  },
  {
   "cell_type": "code",
   "execution_count": 62,
   "metadata": {},
   "outputs": [],
   "source": [
    "'''\n",
    "Pebbles \"The Reaper\" Snatcher \n",
    "     [____]   \n",
    "     ]()()[   \n",
    "   ___\\__/___ \n",
    "  |__|    |__|\n",
    "   |_|_/\\_|_| \n",
    "   | | __ | | \n",
    "   |_|[::]|_| \n",
    "   \\_|_||_|_/ \n",
    "     |_||_| \n",
    "    _|_||_| jro\n",
    "   |___||___| \n",
    "'''\n",
    "\n",
    "# from jogos import *\n",
    "# from testing import *\n",
    "from kalah import KalahState\n",
    "# from jogos import alphabeta_cutoff_search_new\n",
    "# class Jogador():\n",
    "#     def __init__(self, nome, fun):\n",
    "#         self.nome = nome\n",
    "#         self.fun = fun\n",
    "#     def display(self):\n",
    "#         print(self.nome+\" \")\n",
    "        \n",
    "# class JogadorAlfaBeta(Jogador):\n",
    "#     def __init__(self, nome, depth,fun_eval):\n",
    "#         self.nome = nome\n",
    "#         self.fun = lambda game, state: alphabeta_cutoff_search_new(state,game,depth,eval_fn=fun_eval)\n",
    "\n",
    "\n",
    "# PebblePlayer = JogadorAlfaBeta(\"PebbleReaper\",2,)\n",
    "\n",
    "# # O primeiro é o 0 e o segundo é o 1 (para jogos de dois jogadores).\n",
    "# def linearPond(estado,jogador,pesos,funcoes,win):\n",
    "#     \"\"\"Função que pega no estado e no jogador e se fim do jogo devolve win*utilidade (* 1 ou -1, dependendo do jogador)\n",
    "#     senão devolve a combinação linear de pesos e features.\"\"\"\n",
    "#     if estado.is_game_over():\n",
    "#         aux = estado.result()\n",
    "#         return aux*win if jogador == 0 else aux*-win\n",
    "#     # print(\"pit_total:\",pit_total(estado,proxjog))\n",
    "#     # print(\"side_total: \", side_total(estado,proxjog))\n",
    "#     # print(\"chance_to_clear_right_most:\",chance_to_clear_right_most(estado,proxjog))\n",
    "#     # print(\"congregate_seeds: \", congregate_seeds(estado,proxjog))\n",
    "#     return sum([p*f(estado,jogador) for (p,f) in zip(pesos,funcoes)])\n",
    "\n",
    "\n",
    "# class JogadorLinearPond(JogadorAlfaBeta):\n",
    "#     \"\"\"SubClasse dos jogadores alfabeta que usa o combinador linear como função de avaliação.\n",
    "#     Recebe para além do nome e da profundidade, a lista de pesos e das funções-features, criando fun_eval\"\"\"\n",
    "#     def __init__(self, nome, depth,weights,features,win_value):\n",
    "#         self.nome = nome\n",
    "#         fun_eval=lambda estado,jogador: linearPond(estado,jogador,weights,features,win_value)\n",
    "#         self.fun = lambda game, state: alphabeta_cutoff_search_new(state,game,depth,eval_fn=fun_eval)\n",
    "\n",
    "def func_42(estado,jogador):\n",
    "    if estado.is_game_over():\n",
    "        aux = estado.result()\n",
    "        return aux*100 if jogador == 0 else aux*-100\n",
    "    \n",
    "    # if random.randrange(0,10) <= 3:\n",
    "    ###defense strat###\n",
    "    weights = [0.4132746969431487, 0.004000018652774955, 0.09436108536199529, 0.0566795623905725, 0.029663753065053162, 0.4020208835864555]\n",
    "    functions = [pit_total_42,side_total_42,chance_to_clear_right_most_42,congregate_seeds_42,capture_available_42,chaining_42]\n",
    "    # else:\n",
    "    ###base###\n",
    "    # weights = [0.51, 0.01, 0.34, 0.1]\n",
    "    # functions = [pit_total_42,side_total_42,chance_to_clear_right_most_42,congregate_seeds_42]\n",
    "    \n",
    "    return sum([p*f(estado,jogador) for (p,f) in zip(weights,functions)])\n",
    "\n",
    "\n",
    "'''\n",
    "REF: https://www.mdpi.com/2227-9709/7/3/34\n",
    "ok    H1: Collect as many seeds in one pit as possible. Prioritize Left pits over right pits\n",
    "ok    H2: Collect as many seeds on the player’s side.\n",
    "n/a    H3: Reach as many moves as possible to select.\n",
    "ok    H4: Maximize the number of seeds in the player’s kalaha.\n",
    "ok    H5: Clear the rightmost pit (i.e., that with number 1).\n",
    "ok    H6: Minimize the number of seeds in the opponent’s kalaha. Prevent seeds in opposition's kalaha.\n",
    "'''\n",
    "# satisfies H4: Maximize the number of seeds in the player’s kalaha.\n",
    "def pit_total_42(state:KalahState,player):\n",
    "    player_pit = state.state[6] if player == state.SOUTH else state.state[13]\n",
    "    opponent_pit = state.state[13] if player == state.SOUTH else state.state[6] \n",
    "    return player_pit-opponent_pit\n",
    "\n",
    "# satisfies H2:  Collect as many seeds on the player’s side.\n",
    "def side_total_42(state:KalahState,player):\n",
    "    player_side_total = sum(state.state[:6]) if player == state.SOUTH else sum(state.state[7:13]) \n",
    "    opponent_side_total = sum(state.state[7:13]) if player == state.SOUTH else sum(state.state[:6])\n",
    "    return player_side_total-opponent_side_total\n",
    "\n",
    "# satsifies H5: Clear the rightmost pit (i.e., that with number 1).\n",
    "def chance_to_clear_right_most_42(state:KalahState,player):\n",
    "    north_right_empty = 1 if state.state[12] == 0 else 0\n",
    "    south_right_empty = 1 if state.state[5] == 0 else 0\n",
    "    return south_right_empty - north_right_empty if player == state.SOUTH else north_right_empty - south_right_empty\n",
    "\n",
    "# satsifies H1: Collect as many seeds in one pit as possible\n",
    "# encourages having more seeds on the pits closer to the left hand side\n",
    "def congregate_seeds_42(state:KalahState,player):\n",
    "    weights = {0:1,\n",
    "               1:0.8,\n",
    "               2:0.6,\n",
    "               3:0.4,\n",
    "               4:0.2}\n",
    "    \n",
    "    south_result = 0\n",
    "    for i in range(5):\n",
    "        pit_weight = state.state[i]*weights[i]\n",
    "        if  pit_weight > south_result:\n",
    "            south_result = pit_weight\n",
    "    north_result = 0\n",
    "    for i in range(7,12):\n",
    "        pit_weight = state.state[i]*weights[i-7]\n",
    "        if  pit_weight > north_result:\n",
    "            north_result = pit_weight\n",
    "    return south_result - north_result if player == state.SOUTH else north_result - south_result\n",
    "\n",
    "\n",
    "# Not used.\n",
    "# This supposes a given state isn't played and could have potential captures\n",
    "def capture_available_42(state:KalahState,player):\n",
    "    board = state.state\n",
    "\n",
    "    south_max_capture = 0\n",
    "    south_empties = [i for i in range(6) if board[i]==0]\n",
    "    south_move_final_index = [(i+board[i])%14 if i+board[i]<13 else (i+board[i])%13 for i in range(6) if board[i] != 0 and board[i]<=13]\n",
    "    south_possible_captures = [value for value in south_empties if value in south_move_final_index]\n",
    "\n",
    "    if len(south_possible_captures) != 0:\n",
    "        for i in south_possible_captures:\n",
    "            if 1+board[i+7] > south_max_capture:\n",
    "                south_max_capture = 1+board[i+7]\n",
    "    \n",
    "    north_max_capture = 0\n",
    "    north_empties = [i for i in range(7,13) if board[i]==0]\n",
    "    north_move_final_index = [(i+board[i])%14 if i+board[i]-7<13 else ((i+board[i])%14)+1 for i in range(7,13) if board[i] != 0 and board[i]<=13]\n",
    "    north_possible_captures = [value for value in north_empties if value in north_move_final_index]\n",
    "\n",
    "    if len(north_possible_captures) != 0:\n",
    "        for i in north_possible_captures:\n",
    "            if 1+board[i-7] > north_max_capture:\n",
    "                north_max_capture = 1+board[i-7]\n",
    "\n",
    "    return south_max_capture - north_max_capture if player == state.SOUTH else north_max_capture - south_max_capture\n",
    "\n",
    "# Check if any chaining can be used.\n",
    "def chaining_42(state:KalahState,player):\n",
    "    if(state.pass_turn == True):\n",
    "        return 1\n",
    "    return 0\n",
    "\n",
    "# Detect possible captures from oppositions on the next move.\n",
    "# Heuristics are taken away for every weak link\n",
    "def capture_defense_42(state:KalahState,player):\n",
    "    # for every capture blocked, the value is like, the number of seed they dont win\n",
    "    board = state.state\n",
    "    \n",
    "    south_max_capture = 0\n",
    "    south_empties = [i for i in range(6) if board[i]==0]\n",
    "    south_move_final_index = [(i+board[i])%14 if i+board[i]<13 else (i+board[i])%13 for i in range(6) if board[i] != 0 and board[i]<=13]\n",
    "    south_possible_captures = [value for value in south_empties if value in south_move_final_index]\n",
    "\n",
    "    if len(south_possible_captures) != 0:\n",
    "        for i in south_possible_captures:\n",
    "            if 1+board[i+7] > south_max_capture:\n",
    "                south_max_capture = 1+board[i+7] #figure out the best capture they could do\n",
    "    \n",
    "    north_max_capture = 0\n",
    "    north_empties = [i for i in range(7,13) if board[i]==0]\n",
    "    north_move_final_index = [(i+board[i])%14 if i+board[i]-7<13 else ((i+board[i])%14)+1 for i in range(7,13) if board[i] != 0 and board[i]<=13]\n",
    "    north_possible_captures = [value for value in north_empties if value in north_move_final_index]\n",
    "\n",
    "    if len(north_possible_captures) != 0:\n",
    "        for i in north_possible_captures:\n",
    "            if 1+board[i-7] > north_max_capture:\n",
    "                north_max_capture = 1+board[i-7]\n",
    "\n",
    "    if player == state.SOUTH:\n",
    "        return pit_total_42(state,player) - north_max_capture*(-1)\n",
    "    else:\n",
    "        return pit_total_42(state,player) - south_max_capture*(-1)"
   ]
  },
  {
   "cell_type": "markdown",
   "metadata": {},
   "source": [
    "## Create Chapiteau"
   ]
  },
  {
   "cell_type": "code",
   "execution_count": 57,
   "metadata": {},
   "outputs": [],
   "source": [
    "def toes(state,player):\n",
    "    board = state.state\n",
    "    if state.is_game_over():\n",
    "        aux = state.result()\n",
    "        return aux*100 if player == state.SOUTH else aux*-100 \n",
    "    \n",
    "    own_seeds = sum(board[:7]) if player == 0 else sum(board[7:14])\n",
    "    opponent_seeds = sum(board[7:14]) if player == 0 else sum(board[:7])\n",
    "    score = own_seeds - opponent_seeds\n",
    "    return score\n",
    "\n",
    "toe1 = JogadorAlfaBeta(\"chapiteau\",depth,toes)\n",
    "# toe2 = JogadorAlfaBeta(\"heehoo\",6,toes)\n",
    "\n"
   ]
  },
  {
   "cell_type": "markdown",
   "metadata": {},
   "source": [
    "## Create Random Player"
   ]
  },
  {
   "cell_type": "code",
   "execution_count": 58,
   "metadata": {},
   "outputs": [],
   "source": [
    "def f_caos_intel(estado,jogador):\n",
    "    \"\"\"Quando é terminal: +100 para vitória, -100 para a derrota e 0 para o empate.\n",
    "       Quando o tabuleiro é não terminal devolve 0, o que quer dizer que como o minimax baralha as acções, será random\"\"\"\n",
    "    if estado.is_game_over():\n",
    "        aux = estado.result()\n",
    "        return aux*100 if jogador == estado.SOUTH else aux*-100\n",
    "    return 0\n",
    "\n",
    "el_caos_int6=JogadorAlfaBeta(\"El Caos Inteligente 6\",depth,f_caos_intel)"
   ]
  },
  {
   "cell_type": "markdown",
   "metadata": {},
   "source": [
    "# Pebbles!"
   ]
  },
  {
   "cell_type": "code",
   "execution_count": 63,
   "metadata": {},
   "outputs": [],
   "source": [
    "# import copy\n",
    "# pebs = JogadorAlfaBeta('Pebbles',depth,Jogador_42)\n",
    "# nome, depth,weights,features,win_value\n",
    "h_list = [pit_total,side_total,chance_to_clear_right_most,congregate_seeds]\n",
    "pebs =JogadorLinearPond('Pebbles',depth,weights,h_list,100)\n",
    "\n",
    "#\n",
    "# defense focused\n",
    "#\n",
    "\n",
    "# pebs2: more ags trained against chapiteau\n",
    "# weights2 = copy.copy(weights)\n",
    "# weights2.append(1)\n",
    "weights2 = [0.74, 0.01, 0.09, 0.06, 0.15]\n",
    "pebs2 = JogadorLinearPond('Pebbles2-defense-focused',depth,weights2,full_h_list,100)\n",
    "\n",
    "# depth  8 gen 7\n",
    "# weights3 = [0.368, 0.0, 0.242,0.152,0.237] #[0.74, 0.01, 0.09, 0.06, 0.15]\n",
    "# pebs3 = JogadorLinearPond('Pebbles3-defense-focused',depth,weights3,full_h_list,100)\n",
    "\n",
    "weights4 =  [0.53, 0.01, 0.03, 0.03, 0.04]\n",
    "pebs4 = JogadorLinearPond('Pebbles4-defense-focused',depth,weights4,full_h_list,100)\n",
    "\n",
    "\n",
    "\n",
    "# [0.74, 0.01, 0.09, 0.06, 0.15], [0.53, 0.01, 0.03, 0.03, 0.04], [0.8386724534373374, 0.0047944633947019175, 0.0, 0.15653308316796063, 0.0]\n",
    "# capture focused\n",
    "#\n",
    "weights2b = [0.74, 0.01, 0.09, 0.06, 0.15]\n",
    "pebs2b = JogadorLinearPond('Pebbles2-capture-focused',depth,weights2b,alt_h_list,100)\n",
    "\n",
    "# weights3b = [0.368, 0.0, 0.242,0.152,0.237] #[0.74, 0.01, 0.09, 0.06, 0.15]\n",
    "# pebs3b = JogadorLinearPond('Pebbles3-capture-focused',depth,weights3b,alt_h_list,100)\n",
    "\n",
    "weights4b =  [0.53, 0.01, 0.03, 0.03, 0.04]\n",
    "pebs4b = JogadorLinearPond('Pebbles4-capture-focused',depth,weights4b,alt_h_list,100)\n",
    "\n",
    "weightsbc = [0.8386724534373374, 0.0047944633947019175, 0.0, 0.15653308316796063, 0.0]\n",
    "pebs_bc = JogadorLinearPond('Pebbles_BestCapture',depth,weightsbc,alt_h_list,100)\n",
    "\n",
    "\n",
    "weightsbd = [0.2586993457142682, 0.010680145858320323, 0.6757607019062054, 0.00742569201034956, 0.04743411451085642]\n",
    "pebs_bd = JogadorLinearPond('Pebbles_BestDefense',depth,weightsbd,full_h_list,100)\n",
    "\n",
    "\n",
    "# best_prime = [0.51, 0.01, 0.34, 0.1]\n",
    "\n",
    "pebreaper = JogadorAlfaBeta(\"PebbleReaper\",depth,func_42)\n"
   ]
  },
  {
   "cell_type": "markdown",
   "metadata": {},
   "source": [
    "# One game"
   ]
  },
  {
   "cell_type": "markdown",
   "metadata": {},
   "source": [
    "# N Match Pairs"
   ]
  },
  {
   "cell_type": "code",
   "execution_count": 42,
   "metadata": {},
   "outputs": [],
   "source": [
    "scores={'Vitoria': 3, 'Empate': 1}\n",
    "\n",
    "def traduzPontos(tabela):\n",
    "    tabelaScore={}\n",
    "    empates=tabela['Empate']\n",
    "    for x in tabela:\n",
    "        if x != 'Empate':\n",
    "            tabelaScore[x]=scores['Vitoria']*tabela[x]+empates\n",
    "    return tabelaScore\n",
    "\n",
    "def getPoints(tabela, jogador):\n",
    "    empates=tabela['Empate']\n",
    "    total=0\n",
    "    for x in tabela:\n",
    "        total += scores['Vitoria']*tabela[x]+empates\n",
    "    player_score = scores['Vitoria']*tabela[jogador]+empates\n",
    "    return player_score/total\n",
    "\n",
    "#ret_jog_index == 0 or 1 ONLY\n",
    "def jogaNpares_GA(jogo,n,jog1,jog2,ret_jog_index):\n",
    "    tabelaPrim={jog1.nome:0, jog2.nome:0, 'Empate':0}\n",
    "    tabelaSeg={jog1.nome:0, jog2.nome:0, 'Empate':0}\n",
    "    tabela={}\n",
    "    print(' ', end='', flush=True)\n",
    "    for _ in tqdm(range(n), desc= \"jogaNpares_GA range %d\"%jog2.nome,leave=False):\n",
    "        _,_,vencedor=joga11(jogo,jog1,jog2)\n",
    "        tabelaPrim[vencedor]+=1\n",
    "        _,_,vencedor=joga11(jogo,jog2,jog1)\n",
    "        tabelaSeg[vencedor]+=1\n",
    "    for x in tabelaPrim:\n",
    "        tabela[x]=tabelaPrim[x]+tabelaSeg[x]\n",
    "    ret_jog = jog1.nome if ret_jog_index == 0 else jog2.nome\n",
    "    return getPoints(tabela,ret_jog) # this is needed for GA\n",
    "\n",
    "def jogaNpares(jogo,n,jog1,jog2):\n",
    "    tabelaPrim={jog1.nome:0, jog2.nome:0, 'Empate':0}\n",
    "    tabelaSeg={jog1.nome:0, jog2.nome:0, 'Empate':0}\n",
    "    tabela={}\n",
    "    for _ in range(n):\n",
    "        _,_,vencedor=joga11(jogo,jog1,jog2)\n",
    "        tabelaPrim[vencedor]+=1\n",
    "        _,_,vencedor=joga11(jogo,jog2,jog1)\n",
    "        tabelaSeg[vencedor]+=1\n",
    "    for x in tabelaPrim:\n",
    "        tabela[x]=tabelaPrim[x]+tabelaSeg[x]\n",
    "    # ret_jog = jog1.nome if ret_jog_index == 0 else jog2.nome\n",
    "    # return getPoients(tabela,ret_jog) # this is needed for GA\n",
    "    return tabelaPrim,tabelaSeg,tabela,traduzPontos(tabela) # this gives better data for individual npare runs"
   ]
  },
  {
   "cell_type": "markdown",
   "metadata": {},
   "source": [
    "# SUPER IMPORTANT: if you want to see the full table using jogaNpares rather than the numerical win rate for GA, comment/uncomment the last two lines above"
   ]
  },
  {
   "cell_type": "code",
   "execution_count": 15,
   "metadata": {},
   "outputs": [
    {
     "name": "stdout",
     "output_type": "stream",
     "text": [
      "{'Pebbles': 24, 'Pebbles_BestCapture': 36}\n"
     ]
    }
   ],
   "source": [
    "# jogaNpares()\n",
    "\n",
    "# # jogo=Kalah(0)\n",
    "#n jogaNpares(jogo,300,el_caos,el_caos_int6)\n",
    "# jogo.result()\n",
    "\n",
    "# _,_,res=joga11(jogo,pebs,pebs2,True)\n",
    "# jogaNpares(jogo,30,toe1,pebs)\n",
    "# _,_,_,res=jogaNpares(jogo,10,pebs,pebs_bc)\n",
    "# jogaNpares(jogo,30,toe1,pebs4)\n",
    "# print(res)\n"
   ]
  },
  {
   "cell_type": "markdown",
   "metadata": {},
   "source": [
    "# SearchPlus Genetic Algorithm"
   ]
  },
  {
   "cell_type": "code",
   "execution_count": null,
   "metadata": {},
   "outputs": [],
   "source": [
    "# from searchPlus import genetic_algorithm_custom\n",
    "# import random\n",
    "\n",
    "# # for steps in 0.01, use 2. \n",
    "# DEPTH = depth \n",
    "# PRECISION = 10\n",
    "# HEURISTICS = alt_h_list\n",
    "# N_WEIGHTS = 5\n",
    "# TRAINING_ENEMY = pebs4\n",
    "# N_GAMES = 10\n",
    "# N_GENERATION = 1\n",
    "# PMUT = 0.1\n",
    "# # generates n weights that adds up to 1, precision see above\n",
    "# # e.g. [0.7, 0.12, 0.12, 0.06]\n",
    "# def generate_population(n,precision):\n",
    "#     total = pow(10,precision)\n",
    "#     dividers = random.sample(range(1, total), n - 1)\n",
    "#     return [(a - b)/total for a, b in zip(dividers + [total], [0] + dividers)]\n",
    "\n",
    "# # generates a pool of potential changes from 0-1\n",
    "# # a list that goes [0.0, 0.01 ... 1] essentially. based on precision\n",
    "# def generate_pool(precision):\n",
    "#     return [round(x*pow(10,-precision),precision) for x in range(pow(10,precision))]\n",
    "    \n",
    "# # generates 8 \"gene\" as an initial population\n",
    "# pop = [generate_population(N_WEIGHTS,PRECISION) for _ in range(8)]\n",
    "# pop_pool = generate_pool(PRECISION)\n",
    "# print(pop)\n",
    "# print(pop_pool)\n",
    "\n",
    "# # the fitness function evaluates how well a gene does. in this case we insert the weights\n",
    "# # into a player into npare games, which i've changed it to return the win percentage\n",
    "# pebs_generator = lambda name,w:JogadorLinearPond(name,DEPTH,w,HEURISTICS,100)\n",
    "# fitness= lambda name, w:jogaNpares_GA(jogo,N_GAMES,TRAINING_ENEMY,pebs_generator(name,w),1)\n",
    "\n",
    "#call the genetic algorithm\n",
    "# best_fit_weights = genetic_algorithm_custom(pop,fitness,pop_pool,ngen=N_GENERATION,pmut=PMUT)\n",
    "\n",
    "# print(best_fit_weights)"
   ]
  },
  {
   "cell_type": "markdown",
   "metadata": {},
   "source": [
    "\n",
    "# Tornament"
   ]
  },
  {
   "cell_type": "code",
   "execution_count": 51,
   "metadata": {},
   "outputs": [],
   "source": [
    "def incorpora(tabela,tx):\n",
    "    for jog in tx:\n",
    "        if jog not in tabela:\n",
    "            tabela[jog]=tx[jog]\n",
    "        else:\n",
    "            tabela[jog]+=tx[jog]\n",
    "    \n",
    "def torneio(n,jogadores,jogo_id=0):\n",
    "    jogo=Kalah(jogo_id)  # jogo gerado ao calha entre os \"justos\"\n",
    "    tabela={}\n",
    "    for i in range(len(jogadores)-1):\n",
    "        jog1=jogadores[i]\n",
    "        for j in range(i+1,len(jogadores)):\n",
    "            jog2=jogadores[j]\n",
    "            _,_,_,tabelaX = jogaNpares(jogo,n,jog1,jog2)\n",
    "            incorpora(tabela,tabelaX)\n",
    "    return tabela\n",
    "\n",
    "#n - number of games\n",
    "#jogadores - list of players\n",
    "def torneio_GA(n,main_character,jogadores,jogo_id=0):\n",
    "    jogo=Kalah(jogo_id)  # jogo gerado ao calha entre os \"justos\"\n",
    "    jogadores.append(main_character)\n",
    "    tabela={}\n",
    "    print(' ', end='', flush=True)\n",
    "    # for _ in tqdm(range(len(jogadores)-1), desc= \"torneio_GA in progress %d\"%jog2.nome,leave=False):\n",
    "    for i in tqdm(range(len(jogadores)-1), desc= \"torneio_GA in progress %d\"%main_character.nome,leave=False):\n",
    "        jog1=jogadores[i]\n",
    "        for j in range(i+1,len(jogadores)):\n",
    "            jog2=jogadores[j]\n",
    "            _,_,_,tabelaX = jogaNpares(jogo,n,jog1,jog2) # tabelaX = {'Pebbles': 24, 'Pebbles_BestCapture': 36}\n",
    "            incorpora(tabela,tabelaX)\n",
    "    return calculate_win(tabela,main_character)\n",
    "\n",
    "def calculate_win(table,main_character):\n",
    "    all_score = sum(table.values())\n",
    "    print(table)\n",
    "    for each_player in table:\n",
    "        if each_player == main_character.nome:\n",
    "            return table[each_player]/all_score #hopefully returns a win percentage\n",
    "            \n"
   ]
  },
  {
   "cell_type": "markdown",
   "metadata": {},
   "source": [
    "# KEVDEV GA - tournament style"
   ]
  },
  {
   "cell_type": "code",
   "execution_count": 52,
   "metadata": {},
   "outputs": [
    {
     "name": "stdout",
     "output_type": "stream",
     "text": [
      "[[0.53, 0.01, 0.03, 0.03], [0.20840402189052518, 0.3454044719257833, 0.09890645144131613, 0.34728505474237537], [0.021317912726552653, 0.24235480292362446, 0.36028116711425384, 0.3760461172355691], [0.16871614380163089, 0.41252581919030723, 0.18082274856111843, 0.23793528844694353], [0.5663879499383544, 0.25615192445654533, 0.0861899653216611, 0.09127016028343918], [0.36108588815031567, 0.3214300819868612, 0.26338536438276267, 0.054098665480060565], [0.2724751284279748, 0.05607157263302363, 0.1571121899830583, 0.5143411089559433], [0.19151817042267527, 0.37717748923109934, 0.19864409649267933, 0.2326602438535462]]\n"
     ]
    },
    {
     "data": {
      "application/vnd.jupyter.widget-view+json": {
       "model_id": "23143ed388d841bc97dbb97d10febf21",
       "version_major": 2,
       "version_minor": 0
      },
      "text/plain": [
       "overall gen:   0%|          | 0/50 [00:00<?, ?it/s]"
      ]
     },
     "metadata": {},
     "output_type": "display_data"
    },
    {
     "data": {
      "application/vnd.jupyter.widget-view+json": {
       "model_id": "58dc7aac5b78436d8577f0dcf7e2bef0",
       "version_major": 2,
       "version_minor": 0
      },
      "text/plain": [
       "eval pop:   0%|          | 0/8 [00:00<?, ?it/s]"
      ]
     },
     "metadata": {},
     "output_type": "display_data"
    },
    {
     "name": "stdout",
     "output_type": "stream",
     "text": [
      " "
     ]
    },
    {
     "name": "stderr",
     "output_type": "stream",
     "text": []
    },
    {
     "name": "stdout",
     "output_type": "stream",
     "text": [
      " "
     ]
    },
    {
     "name": "stderr",
     "output_type": "stream",
     "text": []
    },
    {
     "name": "stdout",
     "output_type": "stream",
     "text": [
      " "
     ]
    },
    {
     "name": "stderr",
     "output_type": "stream",
     "text": []
    },
    {
     "name": "stdout",
     "output_type": "stream",
     "text": [
      " "
     ]
    },
    {
     "name": "stderr",
     "output_type": "stream",
     "text": []
    },
    {
     "name": "stdout",
     "output_type": "stream",
     "text": [
      " "
     ]
    },
    {
     "name": "stderr",
     "output_type": "stream",
     "text": []
    },
    {
     "name": "stdout",
     "output_type": "stream",
     "text": [
      " "
     ]
    },
    {
     "name": "stderr",
     "output_type": "stream",
     "text": []
    },
    {
     "name": "stdout",
     "output_type": "stream",
     "text": [
      " "
     ]
    },
    {
     "name": "stderr",
     "output_type": "stream",
     "text": []
    },
    {
     "name": "stdout",
     "output_type": "stream",
     "text": [
      " "
     ]
    },
    {
     "name": "stderr",
     "output_type": "stream",
     "text": []
    },
    {
     "ename": "KeyboardInterrupt",
     "evalue": "",
     "output_type": "error",
     "traceback": [
      "\u001b[0;31m---------------------------------------------------------------------------\u001b[0m",
      "\u001b[0;31mIndexError\u001b[0m                                Traceback (most recent call last)",
      "File \u001b[0;32m~/anaconda3/lib/python3.11/multiprocessing/pool.py:856\u001b[0m, in \u001b[0;36mIMapIterator.next\u001b[0;34m(self, timeout)\u001b[0m\n\u001b[1;32m    855\u001b[0m \u001b[39mtry\u001b[39;00m:\n\u001b[0;32m--> 856\u001b[0m     item \u001b[39m=\u001b[39m \u001b[39mself\u001b[39m\u001b[39m.\u001b[39m_items\u001b[39m.\u001b[39mpopleft()\n\u001b[1;32m    857\u001b[0m \u001b[39mexcept\u001b[39;00m \u001b[39mIndexError\u001b[39;00m:\n",
      "\u001b[0;31mIndexError\u001b[0m: pop from an empty deque",
      "\nDuring handling of the above exception, another exception occurred:\n",
      "\u001b[0;31mKeyboardInterrupt\u001b[0m                         Traceback (most recent call last)",
      "\u001b[1;32m/home/mimi/Desktop/school/A3S1/IntroAI/Projects/ProjectoKalah_v2/testing.ipynb Cell 19\u001b[0m line \u001b[0;36m6\n\u001b[1;32m     <a href='vscode-notebook-cell:/home/mimi/Desktop/school/A3S1/IntroAI/Projects/ProjectoKalah_v2/testing.ipynb#X34sZmlsZQ%3D%3D?line=56'>57</a>\u001b[0m \u001b[39mprint\u001b[39m(pop)\n\u001b[1;32m     <a href='vscode-notebook-cell:/home/mimi/Desktop/school/A3S1/IntroAI/Projects/ProjectoKalah_v2/testing.ipynb#X34sZmlsZQ%3D%3D?line=58'>59</a>\u001b[0m \u001b[39m###TESTING OF THE NEW HEURISTIC WORKS### N_GAMES = 30, against 5 enemies\u001b[39;00m\n\u001b[1;32m     <a href='vscode-notebook-cell:/home/mimi/Desktop/school/A3S1/IntroAI/Projects/ProjectoKalah_v2/testing.ipynb#X34sZmlsZQ%3D%3D?line=59'>60</a>\u001b[0m \u001b[39m# anime_protag = (123,[0.5408094183539636, 0.00284445612406821, 0.15969595598418704, 0.22260996169213218, 0.07404020784564898])\u001b[39;00m\n\u001b[1;32m     <a href='vscode-notebook-cell:/home/mimi/Desktop/school/A3S1/IntroAI/Projects/ProjectoKalah_v2/testing.ipynb#X34sZmlsZQ%3D%3D?line=60'>61</a>\u001b[0m \u001b[39m# print(fitness(anime_protag))\u001b[39;00m\n\u001b[0;32m---> <a href='vscode-notebook-cell:/home/mimi/Desktop/school/A3S1/IntroAI/Projects/ProjectoKalah_v2/testing.ipynb#X34sZmlsZQ%3D%3D?line=62'>63</a>\u001b[0m best_fit_weights \u001b[39m=\u001b[39m ga_kev(pop,fitness,[],ngen\u001b[39m=\u001b[39mN_GENERATION,pmut\u001b[39m=\u001b[39mPMUT)\n\u001b[1;32m     <a href='vscode-notebook-cell:/home/mimi/Desktop/school/A3S1/IntroAI/Projects/ProjectoKalah_v2/testing.ipynb#X34sZmlsZQ%3D%3D?line=63'>64</a>\u001b[0m \u001b[39mprint\u001b[39m(best_fit_weights)\n",
      "File \u001b[0;32m~/Desktop/school/A3S1/IntroAI/Projects/ProjectoKalah_v2/kevdiff.py:980\u001b[0m, in \u001b[0;36mgenetic_algorithm_custom\u001b[0;34m(population, fitness_fn, gene_pool, f_thres, ngen, pmut)\u001b[0m\n\u001b[1;32m    978\u001b[0m     worker_ids\u001b[39m.\u001b[39mput(\u001b[39mid\u001b[39m\u001b[39m+\u001b[39m\u001b[39m1\u001b[39m)\n\u001b[1;32m    979\u001b[0m \u001b[39mwith\u001b[39;00m multiprocessing\u001b[39m.\u001b[39mPool(processes\u001b[39m=\u001b[39m\u001b[39mmin\u001b[39m(POP_COUNT, \u001b[39m12\u001b[39m), initializer\u001b[39m=\u001b[39mmp_pool_init, initargs\u001b[39m=\u001b[39m(worker_ids,)) \u001b[39mas\u001b[39;00m pool:\n\u001b[0;32m--> 980\u001b[0m     evaluated_population \u001b[39m=\u001b[39m \u001b[39mlist\u001b[39m(tqdm(pool\u001b[39m.\u001b[39mimap_unordered(fitness_fn, eval_population), desc\u001b[39m=\u001b[39m\u001b[39m\"\u001b[39m\u001b[39meval pop\u001b[39m\u001b[39m\"\u001b[39m, total\u001b[39m=\u001b[39mPOP_COUNT, leave\u001b[39m=\u001b[39m\u001b[39mFalse\u001b[39;00m))\n\u001b[1;32m    981\u001b[0m \u001b[39m# update cachemap\u001b[39;00m\n\u001b[1;32m    982\u001b[0m \u001b[39m#for name, weights, fitness in evaluated_population:\u001b[39;00m\n\u001b[1;32m    983\u001b[0m \u001b[39m#    if weights not in all_known_population_fitness:\u001b[39;00m\n\u001b[1;32m    984\u001b[0m \u001b[39m#        all_known_population_fitness[weights] = fitness\u001b[39;00m\n\u001b[1;32m    985\u001b[0m \u001b[39m# get the x best populations\u001b[39;00m\n\u001b[1;32m    986\u001b[0m new_keep_population \u001b[39m=\u001b[39m evaluated_population \u001b[39m+\u001b[39m keep_population\n",
      "File \u001b[0;32m~/anaconda3/lib/python3.11/site-packages/tqdm/notebook.py:254\u001b[0m, in \u001b[0;36mtqdm_notebook.__iter__\u001b[0;34m(self)\u001b[0m\n\u001b[1;32m    252\u001b[0m \u001b[39mtry\u001b[39;00m:\n\u001b[1;32m    253\u001b[0m     it \u001b[39m=\u001b[39m \u001b[39msuper\u001b[39m(tqdm_notebook, \u001b[39mself\u001b[39m)\u001b[39m.\u001b[39m\u001b[39m__iter__\u001b[39m()\n\u001b[0;32m--> 254\u001b[0m     \u001b[39mfor\u001b[39;00m obj \u001b[39min\u001b[39;00m it:\n\u001b[1;32m    255\u001b[0m         \u001b[39m# return super(tqdm...) will not catch exception\u001b[39;00m\n\u001b[1;32m    256\u001b[0m         \u001b[39myield\u001b[39;00m obj\n\u001b[1;32m    257\u001b[0m \u001b[39m# NB: except ... [ as ...] breaks IPython async KeyboardInterrupt\u001b[39;00m\n",
      "File \u001b[0;32m~/anaconda3/lib/python3.11/site-packages/tqdm/std.py:1178\u001b[0m, in \u001b[0;36mtqdm.__iter__\u001b[0;34m(self)\u001b[0m\n\u001b[1;32m   1175\u001b[0m time \u001b[39m=\u001b[39m \u001b[39mself\u001b[39m\u001b[39m.\u001b[39m_time\n\u001b[1;32m   1177\u001b[0m \u001b[39mtry\u001b[39;00m:\n\u001b[0;32m-> 1178\u001b[0m     \u001b[39mfor\u001b[39;00m obj \u001b[39min\u001b[39;00m iterable:\n\u001b[1;32m   1179\u001b[0m         \u001b[39myield\u001b[39;00m obj\n\u001b[1;32m   1180\u001b[0m         \u001b[39m# Update and possibly print the progressbar.\u001b[39;00m\n\u001b[1;32m   1181\u001b[0m         \u001b[39m# Note: does not call self.update(1) for speed optimisation.\u001b[39;00m\n",
      "File \u001b[0;32m~/anaconda3/lib/python3.11/multiprocessing/pool.py:861\u001b[0m, in \u001b[0;36mIMapIterator.next\u001b[0;34m(self, timeout)\u001b[0m\n\u001b[1;32m    859\u001b[0m     \u001b[39mself\u001b[39m\u001b[39m.\u001b[39m_pool \u001b[39m=\u001b[39m \u001b[39mNone\u001b[39;00m\n\u001b[1;32m    860\u001b[0m     \u001b[39mraise\u001b[39;00m \u001b[39mStopIteration\u001b[39;00m \u001b[39mfrom\u001b[39;00m \u001b[39mNone\u001b[39;00m\n\u001b[0;32m--> 861\u001b[0m \u001b[39mself\u001b[39m\u001b[39m.\u001b[39m_cond\u001b[39m.\u001b[39mwait(timeout)\n\u001b[1;32m    862\u001b[0m \u001b[39mtry\u001b[39;00m:\n\u001b[1;32m    863\u001b[0m     item \u001b[39m=\u001b[39m \u001b[39mself\u001b[39m\u001b[39m.\u001b[39m_items\u001b[39m.\u001b[39mpopleft()\n",
      "File \u001b[0;32m~/anaconda3/lib/python3.11/threading.py:320\u001b[0m, in \u001b[0;36mCondition.wait\u001b[0;34m(self, timeout)\u001b[0m\n\u001b[1;32m    318\u001b[0m \u001b[39mtry\u001b[39;00m:    \u001b[39m# restore state no matter what (e.g., KeyboardInterrupt)\u001b[39;00m\n\u001b[1;32m    319\u001b[0m     \u001b[39mif\u001b[39;00m timeout \u001b[39mis\u001b[39;00m \u001b[39mNone\u001b[39;00m:\n\u001b[0;32m--> 320\u001b[0m         waiter\u001b[39m.\u001b[39macquire()\n\u001b[1;32m    321\u001b[0m         gotit \u001b[39m=\u001b[39m \u001b[39mTrue\u001b[39;00m\n\u001b[1;32m    322\u001b[0m     \u001b[39melse\u001b[39;00m:\n",
      "\u001b[0;31mKeyboardInterrupt\u001b[0m: "
     ]
    }
   ],
   "source": [
    "#backup - kev dev\n",
    "from searchPlus import genetic_algorithm_custom\n",
    "from kevdiff import genetic_algorithm_custom as ga_kev\n",
    "import random\n",
    "\n",
    "# one generation of this takes 1m30s/90s\n",
    "\n",
    "# for steps in 0.01, use 2. \n",
    "DEPTH = depth  #3 rn\n",
    "# PROTAG STATS\n",
    "HEURISTICS = h_list\n",
    "N_WEIGHTS = len(HEURISTICS)\n",
    "N_GAMES = 30\n",
    "N_GENERATION = 50\n",
    "PMUT = 0.1\n",
    "N_POPULATION = 8\n",
    "# ENEMIES\n",
    "ENEMY_LIST = [toe1,pebs,pebs_bc,pebs_bd]\n",
    "\n",
    "# e.g. [0.7, 0.12, 0.12, 0.06]\n",
    "def generate_population(n):\n",
    "    return normalize([random.random() for _ in range(n)])\n",
    "\n",
    "# generates a pool of potential changes from 0-1\n",
    "# a list that goes [0.0, 0.01 ... 1] essentially. based on precision\n",
    "# def generate_pool(precision):\n",
    "#     return [round(x*pow(10,-precision),precision) for x in range(pow(10,precision))]\n",
    "\n",
    "prev_good_weights_for_defense = [[0.53, 0.01, 0.03, 0.03]]\n",
    "pop_rest = [generate_population(N_WEIGHTS) for _ in range(N_POPULATION-len(prev_good_weights_for_defense))]\n",
    "pop = prev_good_weights_for_defense + pop_rest\n",
    "\n",
    "#mid testing for capture focused\n",
    "# pop_gen17 = [(296, [0.5408094183539636, 0.00284445612406821, 0.15969595598418704, 0.22260996169213218, 0.07404020784564898], 0.5922330097087378), (181, [0.5060064283744496, 0.0023946325203097678, 0.27945500045902055, 0.17827186795515407, 0.03387207069106592], 0.5873015873015873), (326, [0.5087305384943449, 0.0030431687499736727, 0.17085225489545827, 0.2381614091784416, 0.07921262868178149], 0.5849056603773585), (281, [0.5492302031235177, 0.002888746315759254, 0.15673364697615585, 0.2184806179605766, 0.07266678562399057], 0.5754716981132075), (247, [0.41752397451100454, 0.0012991470449279108, 0.29854278707734244, 0.21209212302177424, 0.07054196834495088], 0.573208722741433), (340, [0.4293397173643812, 0.0012727933638494399, 0.2924867355859959, 0.20778975540973707, 0.06911099827603649], 0.5728155339805825), (218, [0.43822936301080534, 0.001363572912484629, 0.31334779174201893, 0.20761242699559582, 0.0394468453390953], 0.5705128205128205), (328, [0.5141678293348594, 0.002536050034560504, 0.16912696677170333, 0.2357564245263881, 0.07841272933248868], 0.5682539682539682), (304, [0.5115214949486129, 0.0011768297898419075, 0.23384833697495405, 0.19019452446170035, 0.06325881382489079], 0.565359477124183), (216, [0.5244964022687261, 0.0024821347540840543, 0.16553140370103708, 0.23074434922059944, 0.07674571005555327], 0.565359477124183), (183, [0.5408094183539636, 0.00284445612406821, 0.15969595598418704, 0.22260996169213218, 0.07404020784564898], 0.565359477124183), (191, [0.4220340143246191, 0.0016217516845741953, 0.3222589517171829, 0.21351662545668781, 0.040568656816935986], 0.5638629283489096), (361, [0.5321287927976377, 0.0024422935796346032, 0.1628744304964742, 0.22704063174297384, 0.0755138513832796], 0.5631067961165048), (244, [0.503236853071467, 0.003219031462752779, 0.2098999632357117, 0.23835596329214934, 0.04528818893791916], 0.5566037735849056), (343, [0.5278617454660057, 0.0012144229189132074, 0.16479734850271316, 0.22972110477729635, 0.07640537833507148], 0.5533980582524272), (286, [0.47551148641798996, 0.0012635841717298889, 0.2510873362804695, 0.204215420729435, 0.06792217240037564], 0.5533980582524272), (337, [0.4824081948782528, 0.00253728743925837, 0.2879892244193175, 0.19081079683976004, 0.036254496423411206], 0.5512820512820513), (119, [0.4567526386179326, 0.0014511037277271798, 0.28834942524079316, 0.04219666311629308, 0.21125016929725385], 0.5471698113207547), (321, [0.4240589846181617, 0.0016295330454913263, 0.3238051891812408, 0.21050907747006667, 0.03999721568503944], 0.545751633986928), (268, [0.4589515295334259, 0.002413914115632853, 0.24539703161033458, 0.2200490707654506, 0.07318845397515614], 0.545751633986928), (145, [0.42096729007497213, 0.0016247448742976692, 0.3228537296919815, 0.21391070290713027, 0.04064353245161829], 0.545751633986928), (205, [0.5242839050426428, 0.0027575380787338167, 0.17980785464343735, 0.21998391808195197, 0.07316678415323409], 0.5451713395638629), (305, [0.4641343575158191, 0.0012333515476795063, 0.24507979898187618, 0.21728377651802178, 0.07226871543660336], 0.5416666666666666), (239, [0.5408094183539636, 0.00284445612406821, 0.15969595598418704, 0.22260996169213218, 0.07404020784564898], 0.5416666666666666)]\n",
    "# pop = []\n",
    "# for ind in pop_gen17:\n",
    "#     pop.append(ind[1])\n",
    "# # pop_pool = generate_pool(PRECISION)\n",
    "# print(pop)\n",
    "\n",
    "# print(pop_pool)\n",
    "\n",
    "# the fitness function evaluates how well a gene does. in this case we insert the weights\n",
    "# into a player into npare games, which i've changed it to return the win percentage\n",
    "# pebs_generator = lambda name,w:JogadorLinearPond(name,DEPTH,w,HEURISTICS,100)\n",
    "# fitness= lambda name, w:jogaNpares_GA(jogo,N_GAMES,TRAINING_ENEMY,pebs_generator(name,w),1)\n",
    "\n",
    "def fitness (tuple): #tuple(name:int, weights:list[float])\n",
    "    name = tuple[0]\n",
    "    weights = tuple[1]\n",
    "    pebs_generator = lambda name,w:JogadorLinearPond(name,DEPTH,w,HEURISTICS,100)\n",
    "    anime_protag = pebs_generator(tuple[0],tuple[1])\n",
    "    \n",
    "    return (name,weights,torneio_GA(N_GAMES,anime_protag,ENEMY_LIST)) # torneio_GA(n,main_character,jogadores,jogo_id=0):\n",
    "\n",
    "#call the genetic algorithm\n",
    "print(pop)\n",
    "\n",
    "###TESTING OF THE NEW HEURISTIC WORKS### N_GAMES = 30, against 5 enemies\n",
    "# anime_protag = (123,[0.5408094183539636, 0.00284445612406821, 0.15969595598418704, 0.22260996169213218, 0.07404020784564898])\n",
    "# print(fitness(anime_protag))\n",
    "\n",
    "best_fit_weights = ga_kev(pop,fitness,[],ngen=N_GENERATION,pmut=PMUT)\n",
    "print(best_fit_weights)"
   ]
  },
  {
   "cell_type": "code",
   "execution_count": 60,
   "metadata": {},
   "outputs": [
    {
     "name": "stdout",
     "output_type": "stream",
     "text": [
      "[[1], [1, 2], [0.53, 0.01, 0.03, 0.03, 0.04], [0.8386724534373374, 0.0047944633947019175, 0.0, 0.15653308316796063, 0.0], [0.74, 0.01, 0.09, 0.06, 0.15]]\n",
      "0.8170545006393581\n",
      "0.46278202968124343\n"
     ]
    }
   ],
   "source": [
    "list1 = [[0.74, 0.01, 0.09, 0.06, 0.15], [0.53, 0.01, 0.03, 0.03, 0.04], [0.8386724534373374, 0.0047944633947019175, 0.0, 0.15653308316796063, 0.0]]\n",
    "list2 = [[1],[1,2]]\n",
    "list3 = shuffled(list1+list2)\n",
    "print(list3)\n",
    "print(random.uniform(-0.5,1))\n",
    "c = 0.3\n",
    "d =  c+random.uniform(-0.5,0.5)\n",
    "print(d)"
   ]
  },
  {
   "cell_type": "markdown",
   "metadata": {},
   "source": [
    "# KEVDEV GA"
   ]
  },
  {
   "cell_type": "code",
   "execution_count": 37,
   "metadata": {},
   "outputs": [
    {
     "name": "stdout",
     "output_type": "stream",
     "text": [
      "[[0.5408094183539636, 0.00284445612406821, 0.15969595598418704, 0.22260996169213218, 0.07404020784564898], [0.5060064283744496, 0.0023946325203097678, 0.27945500045902055, 0.17827186795515407, 0.03387207069106592], [0.5087305384943449, 0.0030431687499736727, 0.17085225489545827, 0.2381614091784416, 0.07921262868178149], [0.5492302031235177, 0.002888746315759254, 0.15673364697615585, 0.2184806179605766, 0.07266678562399057], [0.41752397451100454, 0.0012991470449279108, 0.29854278707734244, 0.21209212302177424, 0.07054196834495088], [0.4293397173643812, 0.0012727933638494399, 0.2924867355859959, 0.20778975540973707, 0.06911099827603649], [0.43822936301080534, 0.001363572912484629, 0.31334779174201893, 0.20761242699559582, 0.0394468453390953], [0.5141678293348594, 0.002536050034560504, 0.16912696677170333, 0.2357564245263881, 0.07841272933248868], [0.5115214949486129, 0.0011768297898419075, 0.23384833697495405, 0.19019452446170035, 0.06325881382489079], [0.5244964022687261, 0.0024821347540840543, 0.16553140370103708, 0.23074434922059944, 0.07674571005555327], [0.5408094183539636, 0.00284445612406821, 0.15969595598418704, 0.22260996169213218, 0.07404020784564898], [0.4220340143246191, 0.0016217516845741953, 0.3222589517171829, 0.21351662545668781, 0.040568656816935986], [0.5321287927976377, 0.0024422935796346032, 0.1628744304964742, 0.22704063174297384, 0.0755138513832796], [0.503236853071467, 0.003219031462752779, 0.2098999632357117, 0.23835596329214934, 0.04528818893791916], [0.5278617454660057, 0.0012144229189132074, 0.16479734850271316, 0.22972110477729635, 0.07640537833507148], [0.47551148641798996, 0.0012635841717298889, 0.2510873362804695, 0.204215420729435, 0.06792217240037564], [0.4824081948782528, 0.00253728743925837, 0.2879892244193175, 0.19081079683976004, 0.036254496423411206], [0.4567526386179326, 0.0014511037277271798, 0.28834942524079316, 0.04219666311629308, 0.21125016929725385], [0.4240589846181617, 0.0016295330454913263, 0.3238051891812408, 0.21050907747006667, 0.03999721568503944], [0.4589515295334259, 0.002413914115632853, 0.24539703161033458, 0.2200490707654506, 0.07318845397515614], [0.42096729007497213, 0.0016247448742976692, 0.3228537296919815, 0.21391070290713027, 0.04064353245161829], [0.5242839050426428, 0.0027575380787338167, 0.17980785464343735, 0.21998391808195197, 0.07316678415323409], [0.4641343575158191, 0.0012333515476795063, 0.24507979898187618, 0.21728377651802178, 0.07226871543660336], [0.5408094183539636, 0.00284445612406821, 0.15969595598418704, 0.22260996169213218, 0.07404020784564898]]\n",
      " "
     ]
    },
    {
     "name": "stderr",
     "output_type": "stream",
     "text": [
      "                                                                        "
     ]
    },
    {
     "name": "stdout",
     "output_type": "stream",
     "text": [
      "(123, [0.5408094183539636, 0.00284445612406821, 0.15969595598418704, 0.22260996169213218, 0.07404020784564898], 0.43119266055045874)\n"
     ]
    },
    {
     "name": "stderr",
     "output_type": "stream",
     "text": [
      "\r"
     ]
    }
   ],
   "source": [
    "#backup - kev dev\n",
    "from searchPlus import genetic_algorithm_custom\n",
    "from kevdiff import genetic_algorithm_custom as ga_kev\n",
    "import random\n",
    "\n",
    "# for steps in 0.01, use 2. \n",
    "DEPTH = depth  #6 rn\n",
    "# PRECISION = 2\n",
    "HEURISTICS = alt_h_list\n",
    "N_WEIGHTS = 5\n",
    "TRAINING_ENEMY = pebs4\n",
    "N_GAMES = 50\n",
    "N_GENERATION = 100\n",
    "PMUT = 0.1\n",
    "N_POPULATION = 24\n",
    "# generates n weights that adds up to 1, precision see above\n",
    "# e.g. [0.7, 0.12, 0.12, 0.06]\n",
    "def generate_population(n):\n",
    "    return normalize([random.random() for _ in range(n)])\n",
    "\n",
    "# generates a pool of potential changes from 0-1\n",
    "# a list that goes [0.0, 0.01 ... 1] essentially. based on precision\n",
    "# def generate_pool(precision):\n",
    "#     return [round(x*pow(10,-precision),precision) for x in range(pow(10,precision))]\n",
    "    \n",
    "# generates 8 \"gene\" as an initial population\n",
    "# pop = [generate_population(N_WEIGHTS) for _ in range(N_POPULATION)]\n",
    "\n",
    "pop_gen17 = [(296, [0.5408094183539636, 0.00284445612406821, 0.15969595598418704, 0.22260996169213218, 0.07404020784564898], 0.5922330097087378), (181, [0.5060064283744496, 0.0023946325203097678, 0.27945500045902055, 0.17827186795515407, 0.03387207069106592], 0.5873015873015873), (326, [0.5087305384943449, 0.0030431687499736727, 0.17085225489545827, 0.2381614091784416, 0.07921262868178149], 0.5849056603773585), (281, [0.5492302031235177, 0.002888746315759254, 0.15673364697615585, 0.2184806179605766, 0.07266678562399057], 0.5754716981132075), (247, [0.41752397451100454, 0.0012991470449279108, 0.29854278707734244, 0.21209212302177424, 0.07054196834495088], 0.573208722741433), (340, [0.4293397173643812, 0.0012727933638494399, 0.2924867355859959, 0.20778975540973707, 0.06911099827603649], 0.5728155339805825), (218, [0.43822936301080534, 0.001363572912484629, 0.31334779174201893, 0.20761242699559582, 0.0394468453390953], 0.5705128205128205), (328, [0.5141678293348594, 0.002536050034560504, 0.16912696677170333, 0.2357564245263881, 0.07841272933248868], 0.5682539682539682), (304, [0.5115214949486129, 0.0011768297898419075, 0.23384833697495405, 0.19019452446170035, 0.06325881382489079], 0.565359477124183), (216, [0.5244964022687261, 0.0024821347540840543, 0.16553140370103708, 0.23074434922059944, 0.07674571005555327], 0.565359477124183), (183, [0.5408094183539636, 0.00284445612406821, 0.15969595598418704, 0.22260996169213218, 0.07404020784564898], 0.565359477124183), (191, [0.4220340143246191, 0.0016217516845741953, 0.3222589517171829, 0.21351662545668781, 0.040568656816935986], 0.5638629283489096), (361, [0.5321287927976377, 0.0024422935796346032, 0.1628744304964742, 0.22704063174297384, 0.0755138513832796], 0.5631067961165048), (244, [0.503236853071467, 0.003219031462752779, 0.2098999632357117, 0.23835596329214934, 0.04528818893791916], 0.5566037735849056), (343, [0.5278617454660057, 0.0012144229189132074, 0.16479734850271316, 0.22972110477729635, 0.07640537833507148], 0.5533980582524272), (286, [0.47551148641798996, 0.0012635841717298889, 0.2510873362804695, 0.204215420729435, 0.06792217240037564], 0.5533980582524272), (337, [0.4824081948782528, 0.00253728743925837, 0.2879892244193175, 0.19081079683976004, 0.036254496423411206], 0.5512820512820513), (119, [0.4567526386179326, 0.0014511037277271798, 0.28834942524079316, 0.04219666311629308, 0.21125016929725385], 0.5471698113207547), (321, [0.4240589846181617, 0.0016295330454913263, 0.3238051891812408, 0.21050907747006667, 0.03999721568503944], 0.545751633986928), (268, [0.4589515295334259, 0.002413914115632853, 0.24539703161033458, 0.2200490707654506, 0.07318845397515614], 0.545751633986928), (145, [0.42096729007497213, 0.0016247448742976692, 0.3228537296919815, 0.21391070290713027, 0.04064353245161829], 0.545751633986928), (205, [0.5242839050426428, 0.0027575380787338167, 0.17980785464343735, 0.21998391808195197, 0.07316678415323409], 0.5451713395638629), (305, [0.4641343575158191, 0.0012333515476795063, 0.24507979898187618, 0.21728377651802178, 0.07226871543660336], 0.5416666666666666), (239, [0.5408094183539636, 0.00284445612406821, 0.15969595598418704, 0.22260996169213218, 0.07404020784564898], 0.5416666666666666)]\n",
    "pop = []\n",
    "for ind in pop_gen17:\n",
    "    pop.append(ind[1])\n",
    "# pop_pool = generate_pool(PRECISION)\n",
    "print(pop)\n",
    "# print(pop_pool)\n",
    "\n",
    "# the fitness function evaluates how well a gene does. in this case we insert the weights\n",
    "# into a player into npare games, which i've changed it to return the win percentage\n",
    "# pebs_generator = lambda name,w:JogadorLinearPond(name,DEPTH,w,HEURISTICS,100)\n",
    "# fitness= lambda name, w:jogaNpares_GA(jogo,N_GAMES,TRAINING_ENEMY,pebs_generator(name,w),1)\n",
    "\n",
    "def fitness (tuple): #tuple(name:int, weights:list[float], fitness:float)\n",
    "    name = tuple[0]\n",
    "    weights = tuple[1]\n",
    "    pebs_generator = lambda name,w:JogadorLinearPond(name,DEPTH,w,HEURISTICS,100)\n",
    "    return (name,weights,jogaNpares_GA(jogo,N_GAMES,TRAINING_ENEMY,pebs_generator(tuple[0],tuple[1]),1))\n",
    "\n",
    "###TESTING OF THE NEW HEURISTIC WORKS### N_GAMES = 30, against 5 enemies\n",
    "anime_protag = (123,[0.5408094183539636, 0.00284445612406821, 0.15969595598418704, 0.22260996169213218, 0.07404020784564898])\n",
    "print(fitness(anime_protag))\n",
    "\n",
    "#call the genetic algorithm\n",
    "# best_fit_weights = ga_kev(pop,fitness,[],ngen=N_GENERATION,pmut=PMUT)\n",
    "# #pop_pool ignored\n",
    "\n",
    "# print(best_fit_weights)"
   ]
  },
  {
   "cell_type": "code",
   "execution_count": null,
   "metadata": {},
   "outputs": [],
   "source": [
    "pop_gen17 = [(296, [0.5408094183539636, 0.00284445612406821, 0.15969595598418704, 0.22260996169213218, 0.07404020784564898], 0.5922330097087378), (181, [0.5060064283744496, 0.0023946325203097678, 0.27945500045902055, 0.17827186795515407, 0.03387207069106592], 0.5873015873015873), (326, [0.5087305384943449, 0.0030431687499736727, 0.17085225489545827, 0.2381614091784416, 0.07921262868178149], 0.5849056603773585), (281, [0.5492302031235177, 0.002888746315759254, 0.15673364697615585, 0.2184806179605766, 0.07266678562399057], 0.5754716981132075), (247, [0.41752397451100454, 0.0012991470449279108, 0.29854278707734244, 0.21209212302177424, 0.07054196834495088], 0.573208722741433), (340, [0.4293397173643812, 0.0012727933638494399, 0.2924867355859959, 0.20778975540973707, 0.06911099827603649], 0.5728155339805825), (218, [0.43822936301080534, 0.001363572912484629, 0.31334779174201893, 0.20761242699559582, 0.0394468453390953], 0.5705128205128205), (328, [0.5141678293348594, 0.002536050034560504, 0.16912696677170333, 0.2357564245263881, 0.07841272933248868], 0.5682539682539682), (304, [0.5115214949486129, 0.0011768297898419075, 0.23384833697495405, 0.19019452446170035, 0.06325881382489079], 0.565359477124183), (216, [0.5244964022687261, 0.0024821347540840543, 0.16553140370103708, 0.23074434922059944, 0.07674571005555327], 0.565359477124183), (183, [0.5408094183539636, 0.00284445612406821, 0.15969595598418704, 0.22260996169213218, 0.07404020784564898], 0.565359477124183), (191, [0.4220340143246191, 0.0016217516845741953, 0.3222589517171829, 0.21351662545668781, 0.040568656816935986], 0.5638629283489096), (361, [0.5321287927976377, 0.0024422935796346032, 0.1628744304964742, 0.22704063174297384, 0.0755138513832796], 0.5631067961165048), (244, [0.503236853071467, 0.003219031462752779, 0.2098999632357117, 0.23835596329214934, 0.04528818893791916], 0.5566037735849056), (343, [0.5278617454660057, 0.0012144229189132074, 0.16479734850271316, 0.22972110477729635, 0.07640537833507148], 0.5533980582524272), (286, [0.47551148641798996, 0.0012635841717298889, 0.2510873362804695, 0.204215420729435, 0.06792217240037564], 0.5533980582524272), (337, [0.4824081948782528, 0.00253728743925837, 0.2879892244193175, 0.19081079683976004, 0.036254496423411206], 0.5512820512820513), (119, [0.4567526386179326, 0.0014511037277271798, 0.28834942524079316, 0.04219666311629308, 0.21125016929725385], 0.5471698113207547), (321, [0.4240589846181617, 0.0016295330454913263, 0.3238051891812408, 0.21050907747006667, 0.03999721568503944], 0.545751633986928), (268, [0.4589515295334259, 0.002413914115632853, 0.24539703161033458, 0.2200490707654506, 0.07318845397515614], 0.545751633986928), (145, [0.42096729007497213, 0.0016247448742976692, 0.3228537296919815, 0.21391070290713027, 0.04064353245161829], 0.545751633986928), (205, [0.5242839050426428, 0.0027575380787338167, 0.17980785464343735, 0.21998391808195197, 0.07316678415323409], 0.5451713395638629), (305, [0.4641343575158191, 0.0012333515476795063, 0.24507979898187618, 0.21728377651802178, 0.07226871543660336], 0.5416666666666666), (239, [0.5408094183539636, 0.00284445612406821, 0.15969595598418704, 0.22260996169213218, 0.07404020784564898], 0.5416666666666666)]\n",
    "pop = []\n",
    "for ind in pop_gen17:\n",
    "    pop.append(ind[1])\n",
    "# pop_pool = generate_pool(PRECISION)\n",
    "print(pop)"
   ]
  },
  {
   "cell_type": "code",
   "execution_count": null,
   "metadata": {},
   "outputs": [],
   "source": [
    "list1 = [[1, 2, 3, 4, 5],0.1]\n",
    "list2 = [['a', 'b', 'c', 'd', 'e'],0.4]\n",
    "list3 = [[0, 9, 8, 7, 6],0.2]\n",
    "\n",
    "def wah(*lists):\n",
    "    listee = [x[0] for x in [*lists]]\n",
    "    print(listee)\n",
    "    return [list(value) for value in zip(*listee)]\n",
    "babha = wah(list1,list2,list3)\n",
    "print(babha)\n",
    "\n",
    "\n",
    "listx = []\n",
    "listx.append(list1)\n",
    "listx.append(list2)\n",
    "print(listx)"
   ]
  },
  {
   "cell_type": "code",
   "execution_count": 64,
   "metadata": {},
   "outputs": [
    {
     "data": {
      "text/plain": [
       "{'chapiteau': 92,\n",
       " 'Pebbles': 347,\n",
       " 'Pebbles_BestDefense': 295,\n",
       " 'PebbleReaper': 330}"
      ]
     },
     "execution_count": 64,
     "metadata": {},
     "output_type": "execute_result"
    }
   ],
   "source": [
    "# # from tqdm import tqdm\n",
    "# from random import sample\n",
    "# # for i in tqdm(range(10000000)):\n",
    "# #     pass\n",
    "\n",
    "# x = sorted(sample(range(1, 100), 5 - 1))\n",
    "# print(x)\n",
    "\n",
    "\n",
    "w = [0.2586993457142682, 0.010680145858320323, 0.6757607019062054, 0.00742569201034956, 0.04743411451085642]\n",
    "pebs_bd = JogadorLinearPond('Pebbles_BestDefense',depth,w,full_h_list,100)\n",
    "\n",
    "\n",
    "# w_best = [0.4132746969431487, 0.004000018652774955, 0.09436108536199529, 0.0566795623905725, 0.029663753065053162, 0.4020208835864555]\n",
    "# pebs_final = JogadorLinearPond('Peb_Final',depth,w,full_h_list,100)\n",
    "\n",
    "jogs = [toe1,pebs,pebs_bd,pebreaper]\n",
    "# jogs = [toe1,pebs,pebs2,pebs2b,pebs3b,pebs4b]\n",
    "torneio(30,jogs,0)"
   ]
  },
  {
   "cell_type": "code",
   "execution_count": 32,
   "metadata": {},
   "outputs": [
    {
     "data": {
      "text/plain": [
       "4"
      ]
     },
     "execution_count": 32,
     "metadata": {},
     "output_type": "execute_result"
    }
   ],
   "source": [
    "random.randrange(0,10)"
   ]
  },
  {
   "cell_type": "code",
   "execution_count": null,
   "metadata": {},
   "outputs": [],
   "source": [
    "\n",
    "'''\n",
    "      _   _  _  _  _  _\n",
    "   _  12 11 10  9  8  7     N\n",
    "   13                    6 \n",
    "       0  1  2  3  4  5     S\n",
    "\n",
    "'''\n",
    "board = [5, 14, 6, 14, 14, 0, 0, 14, 1, 0, 14, 14, 14, 0]\n",
    "\n",
    "south_max_capture = 0\n",
    "south_empties = [i for i in range(6) if board[i]==0]\n",
    "south_move_final_index = [(i+board[i])%14 if i+board[i]<13 else (i+board[i])%13 for i in range(6) if board[i] != 0 and board[i]<=13]\n",
    "south_possible_captures = [value for value in south_empties if value in south_move_final_index]\n",
    "\n",
    "if len(south_possible_captures) != 0:\n",
    "    for i in south_possible_captures:\n",
    "        if 1+board[i+7] > south_max_capture:\n",
    "            south_max_capture = 1+board[i+7]\n",
    "\n",
    "north_max_capture = 0\n",
    "north_empties = [i for i in range(7,13) if board[i]==0]\n",
    "north_move_final_index = [(i+board[i])%14 if i+board[i]-7<13 else ((i+board[i])%14)+1 for i in range(7,13) if board[i] != 0 and board[i]<=13]\n",
    "north_possible_captures = [value for value in north_empties if value in north_move_final_index]\n",
    "\n",
    "if len(north_possible_captures) != 0:\n",
    "    for i in north_possible_captures:\n",
    "        print(\"1+board[i-7]\",1+board[i-7], \"i\",i)\n",
    "        if 1+board[i-7] > north_max_capture:\n",
    "            north_max_capture = 1+board[i-7]\n",
    "\n",
    "\n",
    "# north_move_final_index = [(i+board[i])%14 if i+board[i]-7<13 else (i+(board[i]%13))%13 for i in range(7,13)]\n",
    "print(south_empties)\n",
    "print(south_move_final_index)\n",
    "print(south_possible_captures)\n",
    "print(south_max_capture)\n",
    "\n",
    "print(north_empties)\n",
    "print(north_move_final_index)\n",
    "print(north_possible_captures)\n",
    "print(north_max_capture)\n",
    "\n",
    "\n",
    "\n",
    "\n",
    "#0,1,2,3,4,6"
   ]
  }
 ],
 "metadata": {
  "kernelspec": {
   "display_name": "Python 3",
   "language": "python",
   "name": "python3"
  },
  "language_info": {
   "codemirror_mode": {
    "name": "ipython",
    "version": 3
   },
   "file_extension": ".py",
   "mimetype": "text/x-python",
   "name": "python",
   "nbconvert_exporter": "python",
   "pygments_lexer": "ipython3",
   "version": "3.11.4"
  }
 },
 "nbformat": 4,
 "nbformat_minor": 2
}
