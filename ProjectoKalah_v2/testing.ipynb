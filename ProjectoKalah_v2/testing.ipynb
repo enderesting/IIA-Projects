{
 "cells": [
  {
   "cell_type": "code",
   "execution_count": 1,
   "metadata": {},
   "outputs": [],
   "source": [
    "from kalah import *\n",
    "from pebblereaper import *\n",
    "\n",
    "\n",
    "class Jogador():\n",
    "    def __init__(self, nome, fun):\n",
    "        self.nome = nome\n",
    "        self.fun = fun\n",
    "    def display(self):\n",
    "        print(self.nome+\" \")\n",
    "        \n",
    "class JogadorAlfaBeta(Jogador):\n",
    "    def __init__(self, nome, depth,fun_eval):\n",
    "        self.nome = nome\n",
    "        self.fun = lambda game, state: alphabeta_cutoff_search_new(state,game,depth,eval_fn=fun_eval)\n",
    "\n",
    "\n",
    "##########  para ser independente dos jogos deveria devolver um método em string ou um atributo\n",
    "def joga11(game, jog1, jog2,verbose=False):\n",
    "    ### jog1 e jog2 são jogadores com funções que dado um estado do jogo devolvem a jogada que escolheram\n",
    "    ### devolve o par de jogadores, a lista de jogadas e o resultado\n",
    "    estado=game.initial\n",
    "    proxjog = jog1\n",
    "    lista_jogadas=[]\n",
    "    lance = 0\n",
    "    while not game.terminal_test(estado):\n",
    "        if verbose:\n",
    "            print('----------   LANCE:',lance)\n",
    "            game.display(estado)\n",
    "        jogada = proxjog.fun(game, estado)\n",
    "        if verbose:\n",
    "            print('JOGADA=',jogada)\n",
    "        estado=game.result(estado,jogada)\n",
    "        lista_jogadas.append(jogada)\n",
    "        proxjog = jog2 if proxjog == jog1 else jog1\n",
    "        lance+=1\n",
    "    #p jogou e ganhou\n",
    "    util=game.utility(estado,0)\n",
    "    if util == 1:\n",
    "        resultado=jog1.nome\n",
    "    elif util== -1:\n",
    "        resultado = jog2.nome\n",
    "    else:\n",
    "        resultado='Empate'\n",
    "    return ((jog1.nome,jog2.nome),lista_jogadas,resultado)"
   ]
  },
  {
   "cell_type": "markdown",
   "metadata": {},
   "source": [
    "## Create Chapiteau"
   ]
  },
  {
   "cell_type": "code",
   "execution_count": 2,
   "metadata": {},
   "outputs": [],
   "source": [
    "def toes(state,player):\n",
    "    board = state.state\n",
    "    if state.is_game_over():\n",
    "        result = state.result()\n",
    "        if result == 0:\n",
    "            result = 0\n",
    "        return 100 if result == player else -100\n",
    "    \n",
    "    own_seeds = sum(board[:6]) if player == 0 else sum(board[7:13])\n",
    "    opponent_seeds = sum(board[7:13]) if player == 0 else sum(board[:6])\n",
    "    score = own_seeds - opponent_seeds\n",
    "    return score\n",
    "\n",
    "toe1 = JogadorAlfaBeta(\"chapiteau\",6,toes)\n",
    "# toe2 = JogadorAlfaBeta(\"heehoo\",6,toes)"
   ]
  },
  {
   "cell_type": "markdown",
   "metadata": {},
   "source": [
    "## Create Random Player"
   ]
  },
  {
   "cell_type": "code",
   "execution_count": 3,
   "metadata": {},
   "outputs": [],
   "source": [
    "def f_caos_intel(estado,jogador):\n",
    "    \"\"\"Quando é terminal: +100 para vitória, -100 para a derrota e 0 para o empate.\n",
    "       Quando o tabuleiro é não terminal devolve 0, o que quer dizer que como o minimax baralha as acções, será random\"\"\"\n",
    "    if estado.is_game_over():\n",
    "        aux = estado.result()\n",
    "        return aux*100 if jogador == estado.SOUTH else aux*-100\n",
    "    return 0\n",
    "\n",
    "el_caos_int6=JogadorAlfaBeta(\"El Caos Inteligente 6\",6,f_caos_intel)"
   ]
  },
  {
   "cell_type": "markdown",
   "metadata": {},
   "source": [
    "# Pebbles!"
   ]
  },
  {
   "cell_type": "code",
   "execution_count": 4,
   "metadata": {},
   "outputs": [],
   "source": [
    "pebs = JogadorAlfaBeta('Pebbles',6,Jogador_42)"
   ]
  },
  {
   "cell_type": "markdown",
   "metadata": {},
   "source": [
    "# One game"
   ]
  },
  {
   "cell_type": "code",
   "execution_count": 5,
   "metadata": {},
   "outputs": [
    {
     "data": {
      "text/plain": [
       "'chapiteau'"
      ]
     },
     "execution_count": 5,
     "metadata": {},
     "output_type": "execute_result"
    }
   ],
   "source": [
    "mx = Kalah(20)\n",
    "_,_,res = joga11(mx,toe1,el_caos_int6)\n",
    "res"
   ]
  },
  {
   "cell_type": "markdown",
   "metadata": {},
   "source": [
    "# N Match Pairs"
   ]
  },
  {
   "cell_type": "code",
   "execution_count": 6,
   "metadata": {},
   "outputs": [],
   "source": [
    "scores={'Vitoria': 3, 'Empate': 1}\n",
    "\n",
    "def traduzPontos(tabela):\n",
    "    tabelaScore={}\n",
    "    empates=tabela['Empate']\n",
    "    for x in tabela:\n",
    "        if x != 'Empate':\n",
    "            tabelaScore[x]=scores['Vitoria']*tabela[x]+empates\n",
    "    return tabelaScore\n",
    "\n",
    "def jogaNpares(jogo,n,jog1,jog2):\n",
    "    tabelaPrim={jog1.nome:0, jog2.nome:0, 'Empate':0}\n",
    "    tabelaSeg={jog1.nome:0, jog2.nome:0, 'Empate':0}\n",
    "    tabela={}\n",
    "    for _ in range(n):\n",
    "        _,_,vencedor=joga11(jogo,jog1,jog2)\n",
    "        tabelaPrim[vencedor]+=1\n",
    "        _,_,vencedor=joga11(jogo,jog2,jog1)\n",
    "        tabelaSeg[vencedor]+=1\n",
    "    for x in tabelaPrim:\n",
    "        tabela[x]=tabelaPrim[x]+tabelaSeg[x]\n",
    "    return tabelaPrim,tabelaSeg,tabela,traduzPontos(tabela)"
   ]
  },
  {
   "cell_type": "code",
   "execution_count": 8,
   "metadata": {},
   "outputs": [
    {
     "data": {
      "text/plain": [
       "({'chapiteau': 13, 'Pebbles': 12, 'Empate': 5},\n",
       " {'chapiteau': 11, 'Pebbles': 18, 'Empate': 1},\n",
       " {'chapiteau': 24, 'Pebbles': 30, 'Empate': 6},\n",
       " {'chapiteau': 78, 'Pebbles': 96})"
      ]
     },
     "execution_count": 8,
     "metadata": {},
     "output_type": "execute_result"
    }
   ],
   "source": [
    "# jogaNpares()\n",
    "\n",
    "jogo=Kalah(10)\n",
    "#n jogaNpares(jogo,300,el_caos,el_caos_int6)\n",
    "# jogo.result()\n",
    "\n",
    "# _,_,res=joga11(jogo,toe1,pebs,True)\n",
    "jogaNpares(jogo,30,toe1,pebs)"
   ]
  }
 ],
 "metadata": {
  "kernelspec": {
   "display_name": "Python 3",
   "language": "python",
   "name": "python3"
  },
  "language_info": {
   "codemirror_mode": {
    "name": "ipython",
    "version": 3
   },
   "file_extension": ".py",
   "mimetype": "text/x-python",
   "name": "python",
   "nbconvert_exporter": "python",
   "pygments_lexer": "ipython3",
   "version": "3.10.12"
  }
 },
 "nbformat": 4,
 "nbformat_minor": 2
}
