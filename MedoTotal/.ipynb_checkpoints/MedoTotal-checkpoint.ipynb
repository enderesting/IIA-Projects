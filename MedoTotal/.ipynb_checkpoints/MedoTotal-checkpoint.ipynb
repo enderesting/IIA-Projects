{
 "cells": [
  {
   "cell_type": "markdown",
   "metadata": {
    "colab_type": "text",
    "id": "LekFEsVbua_R"
   },
   "source": [
    "#  Fantasma Paralisado\n",
    "## Teste de Avaliação Contínua nº 1\n",
    "### Introdução à Inteligência Artificial, edição 2023/24\n",
    "### Entrega: 10 de Outubro (1m antes da meia-noite)\n",
    "\n",
    "<img src=\"Figuras\\tenor.gif\" alt=\"Drawing\" style=\"width: 150px;\"/>"
   ]
  },
  {
   "cell_type": "markdown",
   "metadata": {},
   "source": [
    "### Introdução\n",
    "Imaginem uma variante do jogo do Pacman que habita um mundo 2D discreto quadrado ($dim \\times dim$ células), cercado por paredes e que pode ter outros obstáculos, onde não há quaisquer pastilhas mas em que podem existir super-pastilhas, e em que há apenas um fantasma que fica paralisado quando está com medo.\n",
    "\n",
    "Como no jogo original, cada super-pastilha tem o poder de deixar o fantasma com medo durante um número $P$ de instantes. A única diferença e que nesta variante o fantasma fica paralisado de medo. Notem que as super-pastilhas possuem todas o mesmo poder $P$. O fantasma começa sempre com uma quantidade de medo de $M$ ($M>0$), que tem o poder de durar $M$ instantes.\n",
    "\n",
    "Em cada instante o Pacman executa o seu movimento. O Pacman pode mover-se nas quatro direcções ortogonais para as quatro células adjacentes (a norte, sul, este e oeste) desde que não seja impedido pelos limites do mundo nem por obstáculos. Ele não gosta de visitar as mesmas células muitas vezes e por isso os custos das acções dependem da frequência com que visita as células. Quando visita uma célula pela primeira vez o custo é de 1, mas quando a visita pela nésima vez o custo é de n. Assim, por exemplo, o custo de se mover para uma posição na qual já esteve 3 vezes será de 4. \n",
    "\n",
    "Quando o Pacman visita uma célula com uma super-pastilha, ele come-a injectando um medo de poder $P$ no fantasma. O fantasma passa a ter um medo de $P$, independentemente da intensidade de medo que possui no momento (se o fantasma tivesse com um nível de medo de 1, 2, 3 ou 4, ou qualquer outro valor, passaria a ter o medo máximo $P$, que é o poder da super-pastilha), i.e. o medo existente não acumula com o valor de medo das super-pastilhas.\n",
    "\n",
    "Pretendemos que o fantasma se mantenha permanentemente com medo durante um período consecutivo de $T$ instantes, desde o instante inicial. Na verdade, procuramos a solução óptima, um plano formado por $T$ movimentos do Pacman, que mantenha o fantasma paralisado durante todo esse tempo, mas com um custo acumulado das acções do Pacman que seja mínimo, sem comer o fantasma ou poder vir a ser comido por ele quando perder o medo. Para isso, quando $T>M$, é necessário que o Pacman consiga comer as super-pastilhas necessárias para atingir o seu objectivo, i.e. que o fantasma esteja durante os $T$ instantes sempre com um medo igual ou superior a 1. \n",
    "\n",
    "Notem que o Pacman não pode nunca em caso algum comer o fantasma. Deve ter então muito cuidado porque acabará por o comer sempre que se mover para a sua célula se ele estiver com medo. Por outro lado, o Pacman é comido pelo fantasma sempre que se mover para a sua posição quando ele estiver sem medo. Assim, nunca poderá o Pacman acabar na mesma célula do fantasma durante ou após cumprir os $T$ instantes do objectivo."
   ]
  },
  {
   "cell_type": "markdown",
   "metadata": {},
   "source": [
    "### O Mundo 2D do Pacman\n",
    "\n",
    "<img src=\"Figuras\\PacmanStreet.PNG\" alt=\"Drawing\" style=\"width: 250px;\"/>\n",
    "\n",
    "Considerem que cada célula do mundo é dada por um par de coordenadas $(x,y)$ e que a célula à esquerda de topo é a célula $(0,0)$ e que a célula do fundo à direita é $(dim-1,dim-1)$.\n",
    "\n",
    "No mundo do fantasma amedrontado:\n",
    "* O mundo é cercado por paredes;\n",
    "* só há um Pacman e um fantasma que são obrigatórios;\n",
    "* o número de super-pastilhas é maior ou igual a zero; \n",
    "* tanto o fantasma como o Pacman como as super-pastilhas terão de estar em células sem obstáculos; \n",
    "* nunca uma célula pode levar mais do que uma super-pastilha; \n",
    "* o Pacman nunca começa na mesma posição nem do fantasma nem de uma super-pastilha; \n",
    "* o fantasma também não pode começar na mesma posição de uma super-pastilha.\n",
    "\n",
    "Eis um exemplo de um mundo inicial válido, que até vai ser o mundo por defeito:\n",
    "```python\n",
    "= = = = = = = = = = \n",
    "= @ . * . . * . . = \n",
    "= . = = = = = = . = \n",
    "= . = F . . . . . = \n",
    "= . = . . . . . . = \n",
    "= . = . . . . . . = \n",
    "= . = . . . . . . = \n",
    "= * . . . . . . . = \n",
    "= . . . . . . . . = \n",
    "= = = = = = = = = = \n",
    "```\n",
    "em que o fantasma está na célula (3,3), o Pacman na (1,1) e temos 3 super-pastilhas, nas células (3,1), (6,1) e (1,8)."
   ]
  },
  {
   "cell_type": "markdown",
   "metadata": {},
   "source": [
    "### Objectivos\n",
    "\n",
    "<img src=\"Figuras\\GhostBuster.JPG\" alt=\"Drawing\" style=\"width: 150px;\"/>\n",
    "\n",
    "Modelizem este problema, como um problema de procura num grafo, de acordo com o Paradigma do Espaço de Estados, usando a implementação disponibilizada pelo módulo `searchPlus.py`. Devem minimizar a informação incluída no estado, formado apenas pelo que muda com as acções.\n",
    "\n",
    "Eis o esqueleto da classe `MedoTotal`que terão de completar:\n",
    "```python\n",
    "from searchPlus import *\n",
    "\n",
    "parametros=\"T=26\\nM=6\\nP=10\"\n",
    "linha1= \"= = = = = = = = = =\\n\"\n",
    "linha2= \"= @ . * . . * . . =\\n\"\n",
    "linha3= \"= . = = = = = = . =\\n\"\n",
    "linha4= \"= . = F . . . . . =\\n\"\n",
    "linha5= \"= . = . . . . . . =\\n\"\n",
    "linha6= \"= . = . . . . . . =\\n\"\n",
    "linha7= \"= . = . . . . . . =\\n\"\n",
    "linha8= \"= * . . . . . . . =\\n\"\n",
    "linha9= \"= . . . . . . . . =\\n\"\n",
    "linha10=\"= = = = = = = = = =\\n\"\n",
    "grelha=linha1+linha2+linha3+linha4+linha5+linha6+linha7+linha8+linha9+linha10\n",
    "mundoStandard=parametros + \"\\n\" + grelha\n",
    "\n",
    "\n",
    "class MedoTotal(Problem):\n",
    "\n",
    "    \n",
    "    def __init__(self, situacaoInicial=mundoStandard):\n",
    "        pass\n",
    "   \n",
    "    def actions(self, state):\n",
    "        pass\n",
    "        \n",
    "    def result(self, state, action):\n",
    "        pass\n",
    "    \n",
    "    def path_cost(self, c, state1,action,next_state):\n",
    "        pass\n",
    "    \n",
    "    def executa(self,state,actions):\n",
    "        \"\"\"Partindo de state, executa a sequência (lista) de acções (em actions) e devolve o último estado\"\"\"\n",
    "        nstate=state\n",
    "        for a in actions:\n",
    "            nstate=p.result(nstate,a)\n",
    "        return nstate\n",
    "    \n",
    "    def display(self, state):\n",
    "        \"\"\"Devolve a grelha em modo txt\"\"\"\n",
    "        pass\n",
    "```"
   ]
  },
  {
   "cell_type": "markdown",
   "metadata": {},
   "source": [
    "#### O Construtor de MedoTotal\n",
    "\n",
    "O construtor da classe principal, chamada de `MedoTotal`, recebe como input informação em texto, referente aos instantes de medo que são o objectivo, o poder das superpastilhas, o medo inicial e a grelha inicial, com as suas dimensões, localização do fantasma e das superpastilhas, dados implicitamente. Na visualização da grelha, o fantasma é representado por um $F$, o Pacman por $@$, os obstáculos que incluiem as paredes por $=$, as casas livres por $.$ e as super-pastilhas por $*$.\n",
    "\n",
    "Eis o `print` do input de texto, por defeito, que é usado no construtor:\n",
    "\n",
    "```python\n",
    "T=26\n",
    "M=6\n",
    "P=10\n",
    "= = = = = = = = = = \n",
    "= @ . * . . * . . = \n",
    "= . = = = = = = . = \n",
    "= . = F . . . . . = \n",
    "= . = . . . . . . = \n",
    "= . = . . . . . . = \n",
    "= . = . . . . . . = \n",
    "= * . . . . . . . = \n",
    "= . . . . . . . . = \n",
    "= = = = = = = = = = \n",
    "``` \n",
    "em que respeitamos sempre a ordem dos parâmetros: 1º T, depois M e a seguir P."
   ]
  },
  {
   "cell_type": "markdown",
   "metadata": {},
   "source": [
    "#### Igualdade entre estados\n",
    "Cada grupo é livre de implementar o estado da maneira que desejar, mas lembrem-se que no estado só deve constar a ionformação que muda com as acções e que é importante para o sucesso dos nossos testes que dois estados exactamente com os mesmos valores nos seus atributos sejam considerados iguais mesmo que sejam objectos distintos!"
   ]
  },
  {
   "cell_type": "markdown",
   "metadata": {},
   "source": [
    "#### O método `actions`\n",
    "As acções são identificadas pelos quatro símbolos seguintes: \"N\", \"W\", \"E\" e \"S\" e o output da função `actions` deve respeitar sempre esta ordem. Já sabem que o Pacman está impedido de saltar para as posições do mundo que sejam obstáculos. Quando o Pacman se movimentar para a célula do fantasma, e este estiver já sem medo, o Pacman morre. Por outro lado, se o Pacman comer o fantasma ainda amedrontado, o fantasma morre, o que é inválido. Por isso nunca, em caso algum, o Pacman pode movimentar-se para cima do fantasma.\n",
    "\n",
    "Não vale a pena aumentar o espaço de estados com estados que não levam a nenhuma solução.  É relevante tentar antecipar a impossibilidade das soluções o mais cedo possível, que resulta num processo muito mais eficaz de procura de soluções. Assim, em todos os estados que correspondam às situações seguintes não deverão existir quaisquer acções possíveis (a função `actions` deve devolver a lista vazia):\n",
    "* Se o Pacman está com medo de intensidade inferior aos instantes de medo necessários ainda para atingir o objectivo e já não há super-pastilhas. \n",
    "* Se o Pacman está com medo de intensidade inferior aos instantes de medo necessários ainda para atingir o objectivo e a distância à super-pastilha mais próxima implicar mais instantes do que a intensidade de medo no fantasma.\n",
    "* Se o Pacman está com medo de intensidade inferior aos instantes de medo necessários ainda para atingir o objectivo e tem medo suficiente para atingir pelo menos uma super-pastilha, mas a soma dos poderes de todas as super-pastilhas com a distância à super-pastilha mais próxima é menor do que os instantes de medo que faltam ainda para atingir o objectivo.\n",
    "\n",
    "Notem que a distância referida em cima não é a distância real considerando os obstáculos e o fantasma, mas a  [distância de manhatan](https://www.omnicalculator.com/math/manhattan-distance). Eis uma função que calcula a distância de manhatan entre dois pontos 2D dados pela coordenadas (x,y)."
   ]
  },
  {
   "cell_type": "markdown",
   "metadata": {},
   "source": [
    "#### O método `result`\n",
    "Reparem que se um estado $s$ for objecto do método `result` ele deve permanecer exactamente igual, não sendo modificado pelo método. Deve ser gerado um estado completamente novo $s'$ e não alterar o estado $s$! Notem que o teste de validade das acções deve ser feito no método `actions` sendo ineficiente e redundante fazerem-no de novo no método `result`."
   ]
  },
  {
   "cell_type": "markdown",
   "metadata": {},
   "source": [
    "#### Programação ao ataque\n",
    "\n",
    "Não têm que se preocupar com situações iniciais do mundo que não sejam válidas. Queremos que foquem no objectivo desta avaliação contínua que é a modelização do problema num espaço de estados. Por exemplo, uma situação inválida é o poder das super-pastilhas ser um número negativo, ou o tempo de medo objectivo ser um float e não um inteiro positivo ,ou o Pacman estar na mesma posição de uma super-pastilha ou do fantasma. Outra situação é a grelha de input ter símbolos diferentes dos incluídos no conjunto {\".\", \"=\", \"F\", \"@\", \"*\"}. Desenvolvam o código assumindo sempre que o input do construtor da classe `MedoTotal` é sempre válido."
   ]
  },
  {
   "cell_type": "markdown",
   "metadata": {},
   "source": [
    "#### O método `executa`\n",
    "A função `executa` permite executar uma sequência de acções a partir de um determinado estado. Serve para ajudar a testarem o vosso código.\n",
    "\n",
    "Notem a título de curiosidade que uma solução para o problema de cima, que não é a óptima, com custo 33, seria:\n",
    "```python\n",
    "['S','S','S','S','S','S','S','N','N','N','N','N','N','N','E','E','E','E','E','E','E','S','S','S','S','S']\n",
    "```\n",
    "\n",
    "Permite testar, por exemplo que se partirmos do estado incial por defeito (já guardado na variável `MundoStandard`), e invocarmos a lista de acções acabadas de apresentar atingiremos o estado final.\n",
    "\n",
    "```python\n",
    "g = MedoTotal(MundoStandard)\n",
    "seq=['S','S','S','S','S','S','S','N','N','N','N','N','N','N','E','E','E','E','E','E','E','S','S','S','S','S']\n",
    "g.goal_test(g.executa(g.initial,seq))\n",
    "True\n",
    "```\n",
    "Uma solução óptima, mas não a única, com custo 28, seria\n",
    "```python\n",
    "['E','E','W','W','S','S','S','S','S','S','S','S','S','E','E','E','E','E','E','E','E','E','N','N','N','N']\n",
    "```\n",
    "\n",
    "Notem que nenhum solução passaria por comer a segunda pastilha na linha de topo, na célula (6,1)."
   ]
  },
  {
   "cell_type": "markdown",
   "metadata": {},
   "source": [
    "#### O Método `display`\n",
    "<img src=\"Figuras\\XrayPacman.PNG\" alt=\"Drawing\" style=\"width: 150px;\"/>\n",
    "\n",
    "A função `display` pega no estado e faz a visualização do mundo em modo texto respeitando o formato usado no input do construtor.\n",
    "Eis um exemplo da sua aplicação, em que se faz uso do valor da variável `MundoStandard`, definida atrás:\n",
    "```python\n",
    "g = MedoTotal(MundoStandard)\n",
    "print(g.display(g.initial))\n",
    "= = = = = = = = = = \n",
    "= @ . * . . . . . = \n",
    "= . = = = = = = . = \n",
    "= . = F . . . . . = \n",
    "= . = . . . . . . = \n",
    "= . = . . . . . . = \n",
    "= . = . . . . . . = \n",
    "= * . . . . . . . = \n",
    "= . . . . . . . . = \n",
    "= = = = = = = = = =\n",
    "```\n",
    "\n",
    "Esta função vai ser importante para testarmos o método `result`."
   ]
  },
  {
   "cell_type": "markdown",
   "metadata": {},
   "source": [
    "## Submissão\n",
    "\n",
    "### Quizz\n",
    "Cada grupo deve completar a implementação da classe pedida e testá-la no link do *quizz* **Avaliação Contínua 1** que está na página da disciplina, introduzindo aí o vosso código. \n",
    "\n",
    "Esse *quizz* é constituído por uma única pergunta. A implementação da classe `MedoTotal` é avaliada através de um conjunto de testes automáticos visíveis e mais alguns testes escondidos, valendo no total 1.75 valores.\n",
    "\n",
    "Podem ir verificando o código (botão check) e submeterem as vezes que quiserem (ambos os elementos do grupo), sendo a submissão com melhor nota a que será considerada.\n",
    "\n",
    "### Prazo\n",
    "A submissão fecha às 23:59 de Terça, 10 de Outubro\n",
    "\n",
    "### Ficheiro Python\n",
    "Simultaneamente é necessario submeter o ficheiro Python que contém todo o código na página da disciplina. Só queremos uma submissão por grupo. Esse ficheiro deve chamar-se *MedoTotal_IIA_23_24_grupoXX.py* em que substituem XX pelo número do grupo. "
   ]
  },
  {
   "cell_type": "code",
   "execution_count": null,
   "metadata": {},
   "outputs": [],
   "source": []
  }
 ],
 "metadata": {
  "colab": {
   "collapsed_sections": [],
   "name": "Untitled0.ipynb",
   "provenance": [],
   "version": "0.3.2"
  },
  "kernelspec": {
   "display_name": "Python 3 (ipykernel)",
   "language": "python",
   "name": "python3"
  },
  "language_info": {
   "codemirror_mode": {
    "name": "ipython",
    "version": 3
   },
   "file_extension": ".py",
   "mimetype": "text/x-python",
   "name": "python",
   "nbconvert_exporter": "python",
   "pygments_lexer": "ipython3",
   "version": "3.11.4"
  }
 },
 "nbformat": 4,
 "nbformat_minor": 2
}
